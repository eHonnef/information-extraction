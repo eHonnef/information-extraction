{
 "nbformat": 4,
 "nbformat_minor": 2,
 "metadata": {
  "language_info": {
   "name": "python",
   "codemirror_mode": {
    "name": "ipython",
    "version": 3
   },
   "version": "3.7.4-final"
  },
  "orig_nbformat": 2,
  "file_extension": ".py",
  "mimetype": "text/x-python",
  "name": "python",
  "npconvert_exporter": "python",
  "pygments_lexer": "ipython3",
  "version": 3,
  "kernelspec": {
   "name": "python37464bit16bfe68ae12841c89130860605802ebe",
   "display_name": "Python 3.7.4 64-bit"
  }
 },
 "cells": [
  {
   "cell_type": "code",
   "execution_count": null,
   "metadata": {},
   "outputs": [],
   "source": [
    "from WikiArticleXmlHandler import WikiArticleXmlHandler\n",
    "from WikiDataXmlHandler import WikiDataXmlHandler\n",
    "import xml.sax\n",
    "import mwparserfromhell\n",
    "import stanfordnlp\n",
    "\n",
    "import subprocess\n",
    "import pandas as pd\n",
    "import os\n",
    "import Utils\n",
    "\n",
    "# from ProcessArticle import ProcessArticle"
   ]
  },
  {
   "cell_type": "markdown",
   "execution_count": null,
   "metadata": {},
   "outputs": [],
   "source": [
    "# WIKIDATA"
   ]
  },
  {
   "cell_type": "code",
   "execution_count": null,
   "metadata": {},
   "outputs": [],
   "source": [
    "file = \"./wikidata/wikidatawiki-latest-pages-articles-multistream1.xml-p1p235321.bz2\""
   ]
  },
  {
   "cell_type": "code",
   "execution_count": null,
   "metadata": {},
   "outputs": [],
   "source": [
    "%%time\n",
    "\n",
    "handler = WikiDataXmlHandler()\n",
    "parser = xml.sax.make_parser()\n",
    "parser.setContentHandler(handler)\n",
    "\n",
    "print(\"Started processing: {}\\n\".format(file))\n",
    "for line in subprocess.Popen([\"bzcat\"],\n",
    "                        stdin=open(file),\n",
    "                        stdout=subprocess.PIPE).stdout:\n",
    "    \n",
    "    if handler._counter > 5: break\n",
    "    parser.feed(line)"
   ]
  },
  {
   "cell_type": "code",
   "execution_count": null,
   "metadata": {},
   "outputs": [],
   "source": [
    "for i in range(6):\n",
    "    print(handler._pages[i][0])"
   ]
  },
  {
   "cell_type": "code",
   "execution_count": null,
   "metadata": {},
   "outputs": [],
   "source": [
    "import json\n",
    "\n",
    "a = json.loads(handler._pages[3][1])"
   ]
  },
  {
   "cell_type": "code",
   "execution_count": null,
   "metadata": {},
   "outputs": [],
   "source": [
    "a.keys()"
   ]
  },
  {
   "cell_type": "code",
   "execution_count": null,
   "metadata": {},
   "outputs": [],
   "source": [
    "a[\"labels\"][\"en\"][\"value\"]"
   ]
  },
  {
   "cell_type": "code",
   "execution_count": null,
   "metadata": {},
   "outputs": [],
   "source": [
    "# get wikidata instanceof\n",
    "a[\"claims\"][\"P31\"][0][\"mainsnak\"][\"datavalue\"][\"value\"][\"id\"]"
   ]
  },
  {
   "cell_type": "code",
   "execution_count": null,
   "metadata": {},
   "outputs": [],
   "source": [
    "for i in range(len(a[\"claims\"][\"P31\"])):\n",
    "    print(a[\"claims\"][\"P31\"][i][\"mainsnak\"][\"datavalue\"][\"value\"][\"id\"])"
   ]
  },
  {
   "cell_type": "code",
   "execution_count": null,
   "metadata": {},
   "outputs": [],
   "source": [
    "x = \"|\".join([a[\"claims\"][\"P31\"][i][\"mainsnak\"][\"datavalue\"][\"value\"][\"id\"] for i in range(len(a[\"claims\"][\"P31\"]))])\n",
    "x"
   ]
  },
  {
   "cell_type": "markdown",
   "execution_count": null,
   "metadata": {},
   "outputs": [],
   "source": [
    "# ARTICLES"
   ]
  },
  {
   "cell_type": "code",
   "execution_count": null,
   "metadata": {},
   "outputs": [],
   "source": [
    "infoboxes = pd.read_csv(\"./saved/infobox-list.csv\")[\"infobox template name\"].values.tolist()\n",
    "out_file = \"./saved/debug.csv\"\n",
    "\n",
    "nlp = stanfordnlp.Pipeline(models_dir=\"./stanfordnlp_resources/\", use_gpu=False);\n",
    "\n",
    "func = ProcessArticle(infoboxes, nlp=nlp)"
   ]
  },
  {
   "cell_type": "code",
   "execution_count": null,
   "metadata": {},
   "outputs": [],
   "source": [
    "%%time\n",
    "file = \"./test_data/test.xml\"\n",
    "\n",
    "handler = WikiArticleXmlHandler(out_file, func, 1000)\n",
    "handler._DEBUG = True\n",
    "\n",
    "parser = xml.sax.make_parser()\n",
    "parser.setContentHandler(handler)\n",
    "\n",
    "for line in open(file, \"r\", encoding=\"utf8\"):\n",
    "    parser.feed(line)\n",
    "\n",
    "# handler.write_df()"
   ]
  },
  {
   "cell_type": "code",
   "execution_count": null,
   "metadata": {},
   "outputs": [],
   "source": [
    "n_df = pd.read_csv(out_file, delimiter=\"\\t\")"
   ]
  },
  {
   "cell_type": "code",
   "execution_count": null,
   "metadata": {},
   "outputs": [],
   "source": [
    "n_df"
   ]
  },
  {
   "cell_type": "code",
   "execution_count": null,
   "metadata": {},
   "outputs": [],
   "source": [
    "n_df[n_df.title.str.contains(\"(?i)cobol\")]"
   ]
  },
  {
   "cell_type": "code",
   "execution_count": null,
   "metadata": {},
   "outputs": [],
   "source": [
    "for i, a in enumerate(handler._data):\n",
    "    if a[0] == \"List of artificial intelligence projects\":\n",
    "        print(\"{}: {}\".format(i, a[0]))"
   ]
  },
  {
   "cell_type": "code",
   "execution_count": null,
   "metadata": {},
   "outputs": [],
   "source": [
    "for i, a in enumerate(handler._data):\n",
    "    # if a[0] == \"COBOL\":\n",
    "    print(\"{}: {}\".format(i, a[0]))"
   ]
  },
  {
   "cell_type": "code",
   "execution_count": null,
   "metadata": {},
   "outputs": [],
   "source": [
    "page = handler._data[2]\n",
    "text = handler._text[2]"
   ]
  },
  {
   "cell_type": "code",
   "execution_count": null,
   "metadata": {},
   "outputs": [],
   "source": [
    "page[4].split(\"|\")"
   ]
  },
  {
   "cell_type": "code",
   "execution_count": null,
   "metadata": {},
   "outputs": [],
   "source": [
    "infoboxes = pd.read_csv(\"./saved/infobox-list.csv\")[\"infobox template name\"].values.tolist()\n",
    "cols = [\"title\", \"type\", \"def words\", \"infobox_name\", \"infobox\", \"categories\",\"wikilinks\"]"
   ]
  },
  {
   "cell_type": "code",
   "execution_count": null,
   "metadata": {},
   "outputs": [],
   "source": [
    "wiki = mwparserfromhell.parse(text)"
   ]
  },
  {
   "cell_type": "code",
   "execution_count": null,
   "metadata": {},
   "outputs": [],
   "source": [
    "a = wiki.strip_code().split(\"\\n\")\n",
    "a = [\" \".join(Utils.cleanhtml(x.strip()).split()) for x in a if not x.isspace() and x != \"\"]\n",
    "a = a[0] # 1st paragraph\n",
    "a"
   ]
  },
  {
   "cell_type": "code",
   "execution_count": null,
   "metadata": {},
   "outputs": [],
   "source": [
    "nlp = stanfordnlp.Pipeline(models_dir=\"./stanfordnlp_resources/\", use_gpu=False);"
   ]
  },
  {
   "cell_type": "code",
   "execution_count": null,
   "metadata": {},
   "outputs": [],
   "source": [
    "doc = nlp(a)"
   ]
  },
  {
   "cell_type": "code",
   "execution_count": null,
   "metadata": {},
   "outputs": [],
   "source": [
    "sentence = doc.sentences[0]"
   ]
  },
  {
   "cell_type": "code",
   "execution_count": null,
   "metadata": {},
   "outputs": [],
   "source": [
    "sentence.words[14]"
   ]
  },
  {
   "cell_type": "code",
   "execution_count": null,
   "metadata": {},
   "outputs": [],
   "source": [
    "import datetime\n",
    "\n",
    "months_choices = list()\n",
    "for i in range(1,13):\n",
    "    months_choices.append((i, datetime.date(2008, i, 1).strftime('%B')))\n",
    "\n",
    "months_choices"
   ]
  },
  {
   "cell_type": "code",
   "execution_count": null,
   "metadata": {},
   "outputs": [],
   "source": [
    "import datetime\n",
    "\n",
    "definitions = []\n",
    "# no_no = [\"punct\", \"nummod\", \"appos\", \"det\", \"nmod:poss\", \"cop\", \"cc\", \"nsubj\", \"case\"]\n",
    "no_no = [\"punct\", \"nummod\", \"det\"]\n",
    "months = [datetime.date(2008, i, 1).strftime(\"%B\").lower() for i in range(1,13)]"
   ]
  },
  {
   "cell_type": "code",
   "execution_count": null,
   "metadata": {},
   "outputs": [],
   "source": [
    "print(\"index\\tlemma\\t\\t\\tgovernor\\t\\t\\ttype\\n\")\n",
    "for word in sentence.words:\n",
    "    index = word.index.rjust(2)\n",
    "    word_lemma = word.lemma\n",
    "    governor = sentence.words[word.governor-1].lemma if word.governor > 0 else \"root\"\n",
    "    deprel = word.dependency_relation\n",
    "\n",
    "    if deprel in no_no or word_lemma.lower() in months:\n",
    "        continue\n",
    "\n",
    "    print(\"{}\\t{}\\t\\t\\t{}\\t\\t\\t{}\".format(index, word_lemma, governor, deprel))"
   ]
  },
  {
   "cell_type": "code",
   "execution_count": null,
   "metadata": {},
   "outputs": [],
   "source": [
    "be_index = None\n",
    "be_gov = None\n",
    "a = []\n",
    "\n",
    "for word in sentence.words:\n",
    "    if word.lemma == \"be\":\n",
    "        be_index = int(word.index.rjust(2))\n",
    "        be_gov = word.governor\n",
    "        a.append(sentence.words[be_gov-1].lemma)\n",
    "        break\n",
    "\n",
    "for word in sentence.words:\n",
    "    if word.governor == be_gov and word.dependency_relation in [\"amod\", \"conj\", \"compound\"]:\n",
    "        a.append(word.lemma)"
   ]
  },
  {
   "cell_type": "code",
   "execution_count": null,
   "metadata": {},
   "outputs": [],
   "source": [
    "a"
   ]
  },
  {
   "cell_type": "code",
   "execution_count": null,
   "metadata": {},
   "outputs": [],
   "source": [
    "print(\"{} {} {}\".format(be_index, be_gov, be_deprel))"
   ]
  },
  {
   "cell_type": "code",
   "execution_count": null,
   "metadata": {},
   "outputs": [],
   "source": [
    "# POS tags\n",
    "print(\" \". join([\"{} ({})\".format(word.text, word.upos) for word in sentence.words]))"
   ]
  },
  {
   "cell_type": "code",
   "execution_count": null,
   "metadata": {},
   "outputs": [],
   "source": [
    "for word in sentence.tokens[14].words:\n",
    "    if word.lemma in [\"be\"]:\n",
    "        print(\"a\")"
   ]
  },
  {
   "cell_type": "code",
   "execution_count": null,
   "metadata": {},
   "outputs": [],
   "source": [
    "sentence.tokens[14].text"
   ]
  },
  {
   "cell_type": "code",
   "execution_count": null,
   "metadata": {},
   "outputs": [],
   "source": [
    "print(*[f\"index: {word.index.rjust(2)}\\tword: {word.text.ljust(11)}\\tgovernor index: {word.governor}\\tgovernor: {(sentence.words[word.governor-1].text if word.governor > 0 else 'root').ljust(11)}\\tdeprel: {word.dependency_relation}\" for word in sentence.words], sep='\\n')"
   ]
  },
  {
   "cell_type": "code",
   "execution_count": null,
   "metadata": {},
   "outputs": [],
   "source": [
    "print(\" \". join([\"{} ({} - {})\".format(word.text, word.upos, word.feats) for word in sentence.words]))"
   ]
  },
  {
   "cell_type": "code",
   "execution_count": null,
   "metadata": {},
   "outputs": [],
   "source": [
    "sentence.build_dependencies()"
   ]
  },
  {
   "cell_type": "code",
   "execution_count": null,
   "metadata": {},
   "outputs": [],
   "source": [
    "sentence.dependencies[0]"
   ]
  },
  {
   "cell_type": "code",
   "execution_count": null,
   "metadata": {},
   "outputs": [],
   "source": [
    "wiki.filter_templates(matches=\"softredirect\")"
   ]
  },
  {
   "cell_type": "code",
   "execution_count": null,
   "metadata": {},
   "outputs": [],
   "source": [
    "\"list of\" in wiki.filter_templates(matches=\"DEFAULTSORT\")[0].name.lower()"
   ]
  },
  {
   "cell_type": "code",
   "execution_count": null,
   "metadata": {},
   "outputs": [],
   "source": [
    "# Creating dict\n",
    "d = {col: [] for col in cols}\n",
    "df = pd.DataFrame(columns=cols)\n",
    "# parse page\n",
    "# wiki = mwparserfromhell.parse(page[1])"
   ]
  },
  {
   "cell_type": "code",
   "execution_count": null,
   "metadata": {},
   "outputs": [],
   "source": [
    "t = [None, \"3\", \"None\", \"6\", None, None,\"1\"]"
   ]
  },
  {
   "cell_type": "code",
   "execution_count": null,
   "metadata": {},
   "outputs": [],
   "source": [
    "[d[cols[i]].append(t[i]) for i in range(len(t))]"
   ]
  },
  {
   "cell_type": "code",
   "execution_count": null,
   "metadata": {},
   "outputs": [],
   "source": [
    "d"
   ]
  },
  {
   "cell_type": "code",
   "execution_count": null,
   "metadata": {},
   "outputs": [],
   "source": [
    "df"
   ]
  },
  {
   "cell_type": "code",
   "execution_count": null,
   "metadata": {},
   "outputs": [],
   "source": [
    "d"
   ]
  },
  {
   "cell_type": "code",
   "execution_count": null,
   "metadata": {},
   "outputs": [],
   "source": [
    "# page title\n",
    "# d[\"title\"].append(page[0])\n",
    "df[\"title\"] = [page[0]]"
   ]
  },
  {
   "cell_type": "code",
   "execution_count": null,
   "metadata": {},
   "outputs": [],
   "source": [
    "# defining article type\n",
    "if page[2] != None:\n",
    "    # d[\"type\"].append(\"redirect\")\n",
    "    df[\"type\"] = [\"redirect\"]\n",
    "else:\n",
    "    # d[\"type\"].append(\"article\")\n",
    "    df[\"type\"] = [\"article\"]"
   ]
  },
  {
   "cell_type": "code",
   "execution_count": null,
   "metadata": {},
   "outputs": [],
   "source": [
    "# Getting article categories\n",
    "# d[\"categories\"].append(\n",
    "#     \"|\".join([\n",
    "#         list(filter(None, x.title.split(\":\")))[-1]\n",
    "#         for x in wiki.filter_wikilinks(matches=\"category\")\n",
    "#     ]))\n",
    "df[\"categories\"] = [\"|\".join([\n",
    "        list(filter(None, x.title.split(\":\")))[-1]\n",
    "        for x in wiki.filter_wikilinks(matches=\"category\")\n",
    "    ])]"
   ]
  },
  {
   "cell_type": "code",
   "execution_count": null,
   "metadata": {},
   "outputs": [],
   "source": [
    "# wikilinks, removing links to Category items\n",
    "# d[\"wikilinks\"].append(\"|\".join(\n",
    "#     [link.title.strip_code().strip() for link in wiki.filter_wikilinks() if \"Category:\" not in link.title.strip_code().strip()]))\n",
    "\n",
    "df[\"wikilinks\"] = [\"|\".join(\n",
    "    [link.title.strip_code().strip() for link in wiki.filter_wikilinks() if \"Category:\" not in link.title.strip_code().strip()])]\n",
    "\n",
    "# external links\n",
    "# df[\"ext_links\"] = \"|\".join([link.url.strip_code().strip() for link in wiki.filter_external_links()])"
   ]
  },
  {
   "cell_type": "code",
   "execution_count": null,
   "metadata": {},
   "outputs": [],
   "source": [
    "import re\n",
    "\n",
    "def cleanhtml(raw_html):\n",
    "  cleanr = re.compile('<.*?>|&([a-z0-9]+|#[0-9]{1,6}|#x[0-9a-f]{1,6});')\n",
    "  cleantext = re.sub(cleanr, '', raw_html)\n",
    "  return cleantext"
   ]
  },
  {
   "cell_type": "code",
   "execution_count": null,
   "metadata": {},
   "outputs": [],
   "source": [
    "# search for infobox template name\n",
    "box = None\n",
    "for template in wiki.filter_templates():\n",
    "    if template.name.strip() in infoboxes:\n",
    "        box = wiki.filter_templates(matches=template.name.strip())[0]\n",
    "        # d[\"infobox_name\"].append(template.name.strip())\n",
    "        df[\"infobox_name\"] = [template.name.strip()]\n",
    "        break\n",
    "\n",
    "a = \"|\".join([\"{}:{}\".format(param.name.strip_code().strip(),\n",
    "                            param.value.strip_code(keep_template_params=True).strip()) for param in box.params])\n",
    "# d[\"infobox\"].append(cleanhtml(a))\n",
    "df[\"infobox\"] = [cleanhtml(a)]"
   ]
  },
  {
   "cell_type": "code",
   "execution_count": null,
   "metadata": {},
   "outputs": [],
   "source": [
    "df"
   ]
  },
  {
   "cell_type": "code",
   "execution_count": null,
   "metadata": {},
   "outputs": [],
   "source": [
    "df[\"infobox\"][0].split(\"|\")"
   ]
  },
  {
   "cell_type": "code",
   "execution_count": null,
   "metadata": {},
   "outputs": [],
   "source": [
    "df[\"wikilinks\"][0].split(\"|\")"
   ]
  },
  {
   "cell_type": "code",
   "execution_count": null,
   "metadata": {},
   "outputs": [],
   "source": [
    "# mais proximo da solucao definitiva\n",
    "for param in box.params:\n",
    "    for x in param.value.filter_templates():\n",
    "        print([y.value.strip_code() for y in x.params])"
   ]
  },
  {
   "cell_type": "code",
   "execution_count": null,
   "metadata": {},
   "outputs": [],
   "source": [
    "# box.params.strip_code()\n",
    "for param in box.params:\n",
    "    # print(param.value.filter_text())\n",
    "    # print(param.value.filter_wikilinks())\n",
    "    print(param.value.strip_code(keep_template_params=True).strip())"
   ]
  },
  {
   "cell_type": "code",
   "execution_count": null,
   "metadata": {},
   "outputs": [],
   "source": [
    "df[\"infobox\"][0]"
   ]
  }
 ]
}