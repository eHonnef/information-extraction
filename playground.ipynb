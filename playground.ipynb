{
 "nbformat": 4,
 "nbformat_minor": 2,
 "metadata": {
  "language_info": {
   "name": "python",
   "codemirror_mode": {
    "name": "ipython",
    "version": 3
   },
   "version": "3.7.4"
  },
  "orig_nbformat": 2,
  "file_extension": ".py",
  "mimetype": "text/x-python",
  "name": "python",
  "npconvert_exporter": "python",
  "pygments_lexer": "ipython3",
  "version": 3
 },
 "cells": [
  {
   "cell_type": "code",
   "execution_count": 1,
   "metadata": {},
   "outputs": [],
   "source": [
    "from WikiXmlHandler import WikiXmlHandler\n",
    "import xml.sax\n",
    "import mwparserfromhell\n",
    "\n",
    "import subprocess\n",
    "import pandas as pd\n",
    "import os"
   ]
  },
  {
   "cell_type": "code",
   "execution_count": 2,
   "metadata": {},
   "outputs": [
    {
     "name": "stdout",
     "output_type": "stream",
     "text": "Wall time: 5.08 s\n"
    }
   ],
   "source": [
    "%%time\n",
    "directory = \"./data/\"\n",
    "files = os.listdir(directory)\n",
    "\n",
    "handler = WikiXmlHandler(\"./saved/out_d.csv\", \"./saved/infobox-list.csv\")\n",
    "handler._DEBUG = True\n",
    "\n",
    "parser = xml.sax.make_parser()\n",
    "parser.setContentHandler(handler)\n",
    "\n",
    "# for file in files:\n",
    "for line in subprocess.Popen([\"bzcat\"],\n",
    "                        stdin=open(directory + files[0]),\n",
    "                        stdout=subprocess.PIPE).stdout:\n",
    "    \n",
    "    if handler._counter > 50:\n",
    "        break\n",
    "\n",
    "    parser.feed(line)\n",
    "    # making sure that everything was written to the file\n",
    "# handler.write_df()"
   ]
  },
  {
   "cell_type": "code",
   "execution_count": 6,
   "metadata": {},
   "outputs": [
    {
     "data": {
      "text/html": "<div>\n<style scoped>\n    .dataframe tbody tr th:only-of-type {\n        vertical-align: middle;\n    }\n\n    .dataframe tbody tr th {\n        vertical-align: top;\n    }\n\n    .dataframe thead th {\n        text-align: right;\n    }\n</style>\n<table border=\"1\" class=\"dataframe\">\n  <thead>\n    <tr style=\"text-align: right;\">\n      <th></th>\n      <th>title</th>\n      <th>type</th>\n      <th>def words</th>\n      <th>infobox_name</th>\n      <th>infobox</th>\n      <th>categories</th>\n      <th>wikilinks</th>\n    </tr>\n  </thead>\n  <tbody>\n    <tr>\n      <th>3037</th>\n      <td>CoBoL</td>\n      <td>redirect</td>\n      <td>NaN</td>\n      <td>NaN</td>\n      <td>NaN</td>\n      <td>NaN</td>\n      <td>COBOL</td>\n    </tr>\n    <tr>\n      <th>4193</th>\n      <td>COBOL</td>\n      <td>article</td>\n      <td>NaN</td>\n      <td>NaN</td>\n      <td>NaN</td>\n      <td>COBOL|.NET programming languages|1959 software...</td>\n      <td>Kobol|File:COBOL Report Apr60.djvu|CODASYL|Pro...</td>\n    </tr>\n  </tbody>\n</table>\n</div>",
      "text/plain": "      title      type def words infobox_name infobox  \\\n3037  CoBoL  redirect       NaN          NaN     NaN   \n4193  COBOL   article       NaN          NaN     NaN   \n\n                                             categories  \\\n3037                                                NaN   \n4193  COBOL|.NET programming languages|1959 software...   \n\n                                              wikilinks  \n3037                                              COBOL  \n4193  Kobol|File:COBOL Report Apr60.djvu|CODASYL|Pro...  "
     },
     "execution_count": 6,
     "metadata": {},
     "output_type": "execute_result"
    }
   ],
   "source": [
    "n_df = pd.read_csv(\"./saved/out.csv\", delimiter=\"\\t\")\n",
    "n_df[n_df.title.str.contains(\"(?i)cobol\")]"
   ]
  },
  {
   "cell_type": "code",
   "execution_count": 3,
   "metadata": {},
   "outputs": [
    {
     "name": "stdout",
     "output_type": "stream",
     "text": "0: Anarchism\n1: Autism\n2: Albedo\n3: A\n4: Alabama\n5: Achilles\n6: Abraham Lincoln\n7: Aristotle\n8: An American in Paris\n9: Academy Award for Best Production Design\n10: Academy Awards\n11: Actrius\n12: Animalia (book)\n13: International Atomic Time\n14: Altruism\n15: Ayn Rand\n16: Alain Connes\n17: Allan Dwan\n18: Algeria\n19: List of Atlas Shrugged characters\n20: Anthropology\n21: Agricultural science\n22: Alchemy\n23: Alien\n24: Astronomer\n25: ASCII\n26: Austin (disambiguation)\n27: Animation\n28: Apollo\n29: Andre Agassi\n30: Austroasiatic languages\n31: Afroasiatic languages\n32: Andorra\n33: Arithmetic mean\n34: American Football Conference\n35: Animal Farm\n36: Amphibian\n37: Alaska\n38: Agriculture\n39: Aldous Huxley\n40: Ada\n41: Aberdeen (disambiguation)\n42: Algae\n43: Analysis of variance\n44: Alkane\n45: Appellate procedure in the United States\n46: Answer (law)\n47: Appellate court\n48: Arraignment\n49: America the Beautiful\n50: Assistive technology\n"
    }
   ],
   "source": [
    "for i, a in enumerate(handler._data):\n",
    "    # if a[0] == \"COBOL\":\n",
    "    print(\"{}: {}\".format(i, a[0]))"
   ]
  },
  {
   "cell_type": "code",
   "execution_count": 3,
   "metadata": {},
   "outputs": [],
   "source": [
    "page = handler._data[6]"
   ]
  },
  {
   "cell_type": "code",
   "execution_count": 5,
   "metadata": {},
   "outputs": [
    {
     "data": {
      "text/plain": "['name:Abraham Lincoln',\n 'image:Abraham Lincoln O-77 matte collodion print.jpg',\n 'caption:Lincoln in November 1863',\n 'alt:An iconic photograph of a bearded Abraham Lincoln showing his head and shoulders.',\n 'office:16th President of the United States',\n 'vicepresident:Hannibal Hamlin  (1861–1865)  Andrew Johnson  (March–April 1865)',\n 'term_start:March 4, 1861',\n 'term_end:April 15, 1865',\n 'predecessor:James Buchanan',\n 'successor:Andrew Johnson',\n 'state1:Illinois',\n 'district1:IL 7 7th',\n 'term_start1:March 4, 1847',\n 'term_end1:March 3, 1849',\n 'predecessor1:John Henry',\n 'successor1:Thomas L. Harris',\n 'office2:Member of the  Illinois House of Representatives  from Sangamon County',\n 'term_start2:December 1, 1834',\n 'term_end2:December 4, 1842',\n 'birth_date:1809 2 12',\n 'birth_place:Sinking Spring Farm, Kentucky, U.S.',\n 'death_date:1865 4 15 1809 2 12',\n 'death_place:Washington, D.C., U.S.',\n 'death_cause:Assassination (gunshot wound to the head)',\n 'restingplace:Lincoln Tomb',\n 'height:6 ft 4 in  Carpenter Francis B. Six Months in the White House: The Story of a Picture https://archive.org/details/sixmonthsatwhit02carpgoog 1866 Hurd and Houghton. 217 ',\n 'party:Whig (before 1854)  Republican (1854–1864)  National Union (1864–1865)',\n 'spouse:Mary Todd November 4, 1842',\n 'children:Robert Edward Willie Tad',\n 'parents:Thomas Lincoln and Nancy Hanks',\n 'signature:Abraham Lincoln 1862 signature.svg',\n 'signature_alt:Cursive signature in ink',\n 'allegiance:United States  Illinois',\n 'branch:Illinois Militia',\n 'serviceyears:1832',\n 'rank:Captain \" Ranks \"  Discharged from command-rank of Captain and re-enlisted at rank of Private.  Private \" Ranks \"',\n \"battles:American Indian Wars   * Black Hawk War  ** Battle of Kellogg's Grove  ** Battle of Stillman's Run\"]"
     },
     "execution_count": 5,
     "metadata": {},
     "output_type": "execute_result"
    }
   ],
   "source": [
    "page[4].split(\"|\")"
   ]
  },
  {
   "cell_type": "code",
   "execution_count": 3,
   "metadata": {},
   "outputs": [],
   "source": [
    "infoboxes = pd.read_csv(\"../saved/infobox-list.csv\")[\"infobox template name\"].values.tolist()\n",
    "cols = [\"title\", \"type\", \"def words\", \"infobox_name\", \"infobox\", \"categories\",\"wikilinks\"]"
   ]
  },
  {
   "cell_type": "code",
   "execution_count": 4,
   "metadata": {},
   "outputs": [],
   "source": [
    "# Creating dict\n",
    "d = {col: [] for col in cols}\n",
    "df = pd.DataFrame(columns=cols)\n",
    "# parse page\n",
    "# wiki = mwparserfromhell.parse(page[1])"
   ]
  },
  {
   "cell_type": "code",
   "execution_count": 8,
   "metadata": {},
   "outputs": [],
   "source": [
    "t = [None, \"3\", \"None\", \"6\", None, None,\"1\"]"
   ]
  },
  {
   "cell_type": "code",
   "execution_count": 9,
   "metadata": {},
   "outputs": [
    {
     "data": {
      "text/plain": "[None, None, None, None, None, None, None]"
     },
     "execution_count": 9,
     "metadata": {},
     "output_type": "execute_result"
    }
   ],
   "source": [
    "[d[cols[i]].append(t[i]) for i in range(len(t))]"
   ]
  },
  {
   "cell_type": "code",
   "execution_count": 10,
   "metadata": {},
   "outputs": [
    {
     "data": {
      "text/plain": "{'title': [None, None],\n 'type': ['3', '3'],\n 'def words': [None, 'None'],\n 'infobox_name': ['6', '6'],\n 'infobox': ['8', None],\n 'categories': [None, None],\n 'wikilinks': ['1', '1']}"
     },
     "execution_count": 10,
     "metadata": {},
     "output_type": "execute_result"
    }
   ],
   "source": [
    "d"
   ]
  },
  {
   "cell_type": "code",
   "execution_count": 256,
   "metadata": {},
   "outputs": [
    {
     "data": {
      "text/html": "<div>\n<style scoped>\n    .dataframe tbody tr th:only-of-type {\n        vertical-align: middle;\n    }\n\n    .dataframe tbody tr th {\n        vertical-align: top;\n    }\n\n    .dataframe thead th {\n        text-align: right;\n    }\n</style>\n<table border=\"1\" class=\"dataframe\">\n  <thead>\n    <tr style=\"text-align: right;\">\n      <th></th>\n      <th>title</th>\n      <th>type</th>\n      <th>def words</th>\n      <th>infobox_name</th>\n      <th>infobox</th>\n      <th>categories</th>\n      <th>wikilinks</th>\n    </tr>\n  </thead>\n  <tbody>\n  </tbody>\n</table>\n</div>",
      "text/plain": "Empty DataFrame\nColumns: [title, type, def words, infobox_name, infobox, categories, wikilinks]\nIndex: []"
     },
     "execution_count": 256,
     "metadata": {},
     "output_type": "execute_result"
    }
   ],
   "source": [
    "df"
   ]
  },
  {
   "cell_type": "code",
   "execution_count": 238,
   "metadata": {},
   "outputs": [
    {
     "data": {
      "text/plain": "{'title': [],\n 'type': [],\n 'def words': [],\n 'infobox_name': [],\n 'infobox': [],\n 'categories': [],\n 'wikilinks': []}"
     },
     "execution_count": 238,
     "metadata": {},
     "output_type": "execute_result"
    }
   ],
   "source": [
    "d"
   ]
  },
  {
   "cell_type": "code",
   "execution_count": 257,
   "metadata": {},
   "outputs": [],
   "source": [
    "# page title\n",
    "# d[\"title\"].append(page[0])\n",
    "df[\"title\"] = [page[0]]"
   ]
  },
  {
   "cell_type": "code",
   "execution_count": 258,
   "metadata": {},
   "outputs": [],
   "source": [
    "# defining article type\n",
    "if page[2] != None:\n",
    "    # d[\"type\"].append(\"redirect\")\n",
    "    df[\"type\"] = [\"redirect\"]\n",
    "else:\n",
    "    # d[\"type\"].append(\"article\")\n",
    "    df[\"type\"] = [\"article\"]"
   ]
  },
  {
   "cell_type": "code",
   "execution_count": 259,
   "metadata": {},
   "outputs": [],
   "source": [
    "# Getting article categories\n",
    "# d[\"categories\"].append(\n",
    "#     \"|\".join([\n",
    "#         list(filter(None, x.title.split(\":\")))[-1]\n",
    "#         for x in wiki.filter_wikilinks(matches=\"category\")\n",
    "#     ]))\n",
    "df[\"categories\"] = [\"|\".join([\n",
    "        list(filter(None, x.title.split(\":\")))[-1]\n",
    "        for x in wiki.filter_wikilinks(matches=\"category\")\n",
    "    ])]"
   ]
  },
  {
   "cell_type": "code",
   "execution_count": 260,
   "metadata": {},
   "outputs": [],
   "source": [
    "# wikilinks, removing links to Category items\n",
    "# d[\"wikilinks\"].append(\"|\".join(\n",
    "#     [link.title.strip_code().strip() for link in wiki.filter_wikilinks() if \"Category:\" not in link.title.strip_code().strip()]))\n",
    "\n",
    "df[\"wikilinks\"] = [\"|\".join(\n",
    "    [link.title.strip_code().strip() for link in wiki.filter_wikilinks() if \"Category:\" not in link.title.strip_code().strip()])]\n",
    "\n",
    "# external links\n",
    "# df[\"ext_links\"] = \"|\".join([link.url.strip_code().strip() for link in wiki.filter_external_links()])"
   ]
  },
  {
   "cell_type": "code",
   "execution_count": 261,
   "metadata": {},
   "outputs": [],
   "source": [
    "import re\n",
    "\n",
    "def cleanhtml(raw_html):\n",
    "  cleanr = re.compile('<.*?>|&([a-z0-9]+|#[0-9]{1,6}|#x[0-9a-f]{1,6});')\n",
    "  cleantext = re.sub(cleanr, '', raw_html)\n",
    "  return cleantext"
   ]
  },
  {
   "cell_type": "code",
   "execution_count": 262,
   "metadata": {},
   "outputs": [],
   "source": [
    "# search for infobox template name\n",
    "box = None\n",
    "for template in wiki.filter_templates():\n",
    "    if template.name.strip() in infoboxes:\n",
    "        box = wiki.filter_templates(matches=template.name.strip())[0]\n",
    "        # d[\"infobox_name\"].append(template.name.strip())\n",
    "        df[\"infobox_name\"] = [template.name.strip()]\n",
    "        break\n",
    "\n",
    "a = \"|\".join([\"{}:{}\".format(param.name.strip_code().strip(),\n",
    "                            param.value.strip_code(keep_template_params=True).strip()) for param in box.params])\n",
    "# d[\"infobox\"].append(cleanhtml(a))\n",
    "df[\"infobox\"] = [cleanhtml(a)]"
   ]
  },
  {
   "cell_type": "code",
   "execution_count": 263,
   "metadata": {},
   "outputs": [
    {
     "data": {
      "text/html": "<div>\n<style scoped>\n    .dataframe tbody tr th:only-of-type {\n        vertical-align: middle;\n    }\n\n    .dataframe tbody tr th {\n        vertical-align: top;\n    }\n\n    .dataframe thead th {\n        text-align: right;\n    }\n</style>\n<table border=\"1\" class=\"dataframe\">\n  <thead>\n    <tr style=\"text-align: right;\">\n      <th></th>\n      <th>title</th>\n      <th>type</th>\n      <th>def words</th>\n      <th>infobox_name</th>\n      <th>infobox</th>\n      <th>categories</th>\n      <th>wikilinks</th>\n    </tr>\n  </thead>\n  <tbody>\n    <tr>\n      <th>0</th>\n      <td>COBOL</td>\n      <td>article</td>\n      <td>NaN</td>\n      <td>Infobox programming language</td>\n      <td>name:COBOL|logo:200px|alt=COBOL. Report to Con...</td>\n      <td>COBOL|.NET programming languages|1959 software...</td>\n      <td>Kobol|File:COBOL Report Apr60.djvu|CODASYL|Pro...</td>\n    </tr>\n  </tbody>\n</table>\n</div>",
      "text/plain": "   title     type def words                  infobox_name  \\\n0  COBOL  article       NaN  Infobox programming language   \n\n                                             infobox  \\\n0  name:COBOL|logo:200px|alt=COBOL. Report to Con...   \n\n                                          categories  \\\n0  COBOL|.NET programming languages|1959 software...   \n\n                                           wikilinks  \n0  Kobol|File:COBOL Report Apr60.djvu|CODASYL|Pro...  "
     },
     "execution_count": 263,
     "metadata": {},
     "output_type": "execute_result"
    }
   ],
   "source": [
    "df"
   ]
  },
  {
   "cell_type": "code",
   "execution_count": 264,
   "metadata": {},
   "outputs": [
    {
     "data": {
      "text/plain": "['name:COBOL',\n 'logo:200px',\n 'alt=COBOL. Report to Conference on Data Systems Languages including initial specifications for a Common Business Oriented Language (COBOL) for programming digital electronic computers. Department of Defense, April 1960.',\n 'logo caption:The cover of the COBOL 60 report to CODASYL (April 1960)',\n 'paradigm:Procedural, imperative, object-oriented',\n 'year:yes 1959',\n 'designers:Howard Bromberg, Howard Discount, Vernon Reeves, Jean E. Sammet, William Selden, Gertrude Tierney, Mary K. Hawes',\n 'developers:CODASYL, ANSI, ISO',\n 'latest release version:ISO/IEC 1989:2014',\n 'latest release date:2014',\n 'typing:Weak, static',\n 'implementations:GnuCOBOL, IBM COBOL, Micro Focus Visual COBOL',\n 'dialects:ACUCOBOL-GT, COBOL-IT, COBOL/2, DEC COBOL-10, DEC VAX COBOL, DOSVS COBOL, Fujitsu COBOL, Hitachi COBOL2002, HP3000 COBOL/II, IBM COBOL SAA, IBM COBOL/400, IBM COBOL/II, IBM Enterprise COBOL, IBM ILE COBOL, IBM OS/VS COBOL, ICL COBOL (VME),  isCOBOL, Micro Focus COBOL, Microsoft COBOL, Realia COBOL, Ryan McFarland RM/COBOL, Ryan McFarland RM/COBOL-85, Tandem (NonStop) COBOL85, Tandem (NonStop) SCOBOL, UNIVAC COBOL, Unisys MCP COBOL74, Unisys MCP COBOL85, Unix COBOL X/Open, Veryant isCOBOL, Visual COBOL, Wang VS COBOL',\n 'influenced_by:AIMACO, C++,2002 influence  \" SW95 \" / >   Cobol: Perception and Reality  Computer  March 1997  30  3  10.1109/2.573683  127  0018-9162  Edmund C.  Arranga  Frank P.  Coyle    COMTRAN, Eiffel,2002 influence FACT, FLOW-MATIC, Smalltalk2002 influence',\n 'influenced:CobolScript,  COBOL Script: a business-oriented scripting language  Tetsuji  Imajo  Tatsuki  Miyake  Shinobu  Sato  Toshiyuki  Ito  Daisuke  Yokotsuka  Yoshihide  Tsujihata  Shunsuke  Uemura  1  IEEE  September 2000  Enterprise Distributed Object Computing Conference  http://dblp1.uni-trier.de/db/conf/edoc/edoc2000.html  Makuhari, Japan  0769508650  10.1109/EDOC.2000.882363     EGL,  https://www.omg.org/adm/EGLOverviewtoOMG.pdf  Introduction to EGL  IBM Software Group  7 May 2007  Wing Hong  Ho   PL/I,  The early history and characteristics of PL/I  Academic Press  1981  History of Programming Languages  Radin  George  George Radin  Richard L.  Wexelblat  10.1145/800025.1198410  0127450408  572  1978     PL/BOctober 2017  Most sources on PL/B or Databus describe it is as COBOL-like, not as *inspired by* COBOL.',\n 'file_ext: .cbl  ,   .cob  ,   .cpy ',\n 'wikibooks:COBOL']"
     },
     "execution_count": 264,
     "metadata": {},
     "output_type": "execute_result"
    }
   ],
   "source": [
    "df[\"infobox\"][0].split(\"|\")"
   ]
  },
  {
   "cell_type": "code",
   "execution_count": 265,
   "metadata": {},
   "outputs": [
    {
     "data": {
      "text/plain": "['Kobol',\n 'File:COBOL Report Apr60.djvu',\n 'CODASYL',\n 'Procedural programming',\n 'imperative programming',\n 'Object-oriented programming',\n 'Jean E. Sammet',\n 'CODASYL',\n 'ANSI',\n 'ISO',\n 'weak typing',\n 'static typing',\n 'GnuCOBOL',\n 'IBM COBOL',\n 'Micro Focus',\n 'AIMACO',\n 'C++',\n 'COMTRAN',\n 'Eiffel (programming language)',\n 'FACT computer language',\n 'FLOW-MATIC',\n 'Smalltalk',\n 'CobolScript',\n 'EGL (programming language)',\n 'PL/I',\n 'Academic Press',\n 'Programming Language for Business',\n 'acronym',\n 'WP:EXPABBR',\n 'compiled',\n 'computer programming language',\n 'imperative programming',\n 'procedural programming',\n 'object-oriented programming',\n 'mainframe computer',\n 'batch processing',\n 'transaction processing',\n 'CODASYL',\n 'Grace Hopper',\n 'Basic Books',\n 'US Department of Defense',\n 'Software portability',\n 'MIT Press',\n 'standardized',\n 'structured programming',\n 'object-oriented programming',\n 'ISO',\n 'International Electrotechnical Commission',\n 'reserved word',\n 'standard library',\n 'structured programming',\n 'Timeline of programming languages',\n 'File:Grace Hopper.jpg',\n 'Grace Hopper',\n 'FLOW-MATIC',\n 'Mary K. Hawes',\n 'Burroughs Corporation',\n 'University of Pennsylvania',\n 'Grace Hopper',\n 'FLOW-MATIC',\n 'Jean Sammet',\n 'Saul Gorn',\n 'United States Department of Defense',\n 'Texas Public Radio',\n 'ALGOL 58',\n 'FORTRAN',\n 'steering committee',\n 'Betty Holberton',\n 'CODASYL',\n 'Burroughs Corporation',\n 'IBM',\n 'Honeywell',\n 'RCA',\n 'Sperry Rand',\n 'Sylvania Electric Products',\n 'US Air Force',\n 'David Taylor Model Basin',\n 'National Bureau of Standards',\n 'Joseph Wegstein',\n 'FLOW-MATIC',\n 'AIMACO',\n 'COMTRAN',\n 'Bob Bemer',\n 'Computer History Museum',\n '#PICTURE clause',\n 'GO TO',\n 'design by committee',\n 'boolean expression',\n 'formula',\n 'PL/I',\n 'interactivity',\n 'operating system',\n 'FACT (computer language)',\n 'Roy Nutt',\n 'Computer History Museum',\n 'Jean E. Sammet',\n 'Bendix Corporation',\n 'Control Data Corporation',\n 'General Electric',\n 'National Cash Register',\n 'Philco',\n 'International Computers and Tabulators',\n 'Univac',\n 'Charles Katz',\n 'ALGOL',\n 'mass storage',\n 'table (information)',\n 'ANSI',\n 'library (computing)',\n 'Ecma International',\n 'COBOL#Files',\n 'memory segmentation',\n 'Department of the Navy',\n 'forward compatibility',\n 'Data Processing Management Association',\n 'Wim Ebbinkhuijsen',\n 'ISO/IEC JTC 1/SC 22#History',\n 'DEC VAX',\n 'control flow',\n 'debugging',\n 'Placeholder (Computer syntax)',\n 'switch statement',\n 'Gartner Group',\n 'C++',\n 'Smalltalk',\n 'Cambridge University Press',\n 'Micro Focus International',\n 'Fujitsu',\n 'IBM',\n 'RainCode',\n '.NET Framework',\n 'User-defined function',\n 'Recursion',\n 'Locale (computer software)',\n 'Unicode',\n 'Floating-point',\n 'binary number',\n 'base-10',\n 'Bit',\n 'Boolean data type',\n 'Pointer (computer programming)',\n 'text-based user interface',\n 'Application framework',\n 'Java (platform)',\n 'Erratum',\n 'finalizer',\n 'XML',\n 'collection class',\n 'NIST',\n 'IEEE 754',\n 'z/OS',\n 'z/VSE',\n 'ICL VME',\n 'Unix',\n 'OpenVMS',\n 'Microsoft Windows',\n 'Gartner Group',\n 'year 2000 problem',\n 'Computerworld',\n 'C++',\n 'Visual Basic .NET',\n 'Committee on Oversight and Government Reform',\n 'Government Accountability Office',\n 'keyword (computer programming)',\n 'Micro Focus',\n 'lexical items',\n 'computer files',\n 'character sets',\n 'variable (computer science)',\n 'parameter (computer programming)',\n 'statement (computer science)',\n 'metalanguage',\n 'Backus–Naur form',\n 'class (computer programming)',\n 'Interface (object-oriented programming)',\n 'method (computer programming)',\n 'polymorphism (computer science)',\n 'generic programming',\n 'Member visibility',\n 'property (programming)',\n 'Method overloading',\n 'sequential access',\n 'linked list',\n 'random access',\n 'unique key',\n 'C-ISAM',\n 'VSAM',\n 'ISAM',\n 'newline',\n 'static variable',\n 'automatic variable',\n 'text-based user interface',\n 'Sams',\n 'UTF-8',\n 'signedness',\n 'undefined behavior',\n 'packed binary-coded decimal',\n 'declarative programming',\n 'label (programming)',\n 'subroutines',\n 'Parameter (computer programming)',\n 'Undefined behavior',\n '#Report writer',\n 'conditional (computer programming)',\n 'switch statement',\n 'decision table',\n 'CNC lathe',\n '#Procedures',\n 'call by reference',\n 'call by value',\n 'function prototype',\n 'return statement',\n 'break statement',\n 'continue statement',\n 'Exception handling',\n 'lock (database)',\n 'assignment (computer science)',\n 'Record (computer science)#COBOL',\n 'dynamic memory',\n 'Concatenation',\n 'string (computer science)',\n 'substring',\n 'dangling else problem',\n 'self-modifying code',\n 'deprecation',\n 'Daniel D. McCracken',\n 'Hello, world',\n '\" Hello, World! \"  program',\n 'The C Programming Language (book)',\n 'Job Control Language',\n 'Hercules emulator',\n 'MVS',\n 'structured programming',\n 'Edsger Dijkstra',\n 'letter to the editor',\n 'Communications of the ACM',\n 'unstructured programming',\n 'spaghetti code',\n 'modular programming',\n 'parameter (computer programming)',\n 'single-entry single-exit',\n 'Chief Information Officer',\n 'St. Paul Travelers',\n 'The Jargon File',\n 'self-documenting',\n 'metalanguage',\n 'Backus–Naur form',\n 'Library of Congress',\n 'Micro Focus',\n 'information systems',\n 'C++',\n 'Java (Programming language)',\n 'FORTRAN',\n 'assembler language',\n 'PL/I',\n 'Pascal (programming language)',\n 'database management systems',\n 'include directive',\n 'IBM',\n 'IBM',\n 'Alphabetical list of programming languages',\n 'BLIS/COBOL',\n 'COBOL ReSource',\n 'CODASYL',\n 'Comparison of programming languages',\n 'CRC Press',\n 'National Bureau of Standards',\n 'John Wiley  &  Sons',\n 'ISO',\n 'INCITS',\n 'Association for Computing Machinery',\n 'Annals of the History of Computing']"
     },
     "execution_count": 265,
     "metadata": {},
     "output_type": "execute_result"
    }
   ],
   "source": [
    "df[\"wikilinks\"][0].split(\"|\")"
   ]
  },
  {
   "cell_type": "code",
   "execution_count": 223,
   "metadata": {},
   "outputs": [
    {
     "name": "stdout",
     "output_type": "stream",
     "text": "['yes', '1959']\n['Howard Bromberg']\n['Howard Discount']\n['Vernon Reeves']\n['Jean E. Sammet']\n['William Selden']\n['Gertrude Tierney']\n['Mary K. Hawes']\n['GnuCOBOL, IBM COBOL']\n['Micro Focus Visual COBOL']\n['2002 influence', ' \" SW95 \" / > < ref name= \" Arranga98 \" / > < ref >  < /ref > ']\n['Cobol: Perception and Reality ', 'Computer ', 'March 1997 ', '30 ', '3 ', '10.1109/2.573683 ', '127 ', '0018-9162 ', 'Edmund C. ', 'Arranga ', 'Frank P. ', 'Coyle ']\n['2002 influence']\n['2002 influence']\n['COBOL Script: a business-oriented scripting language ', 'Tetsuji ', 'Imajo ', 'Tatsuki ', 'Miyake ', 'Shinobu ', 'Sato ', 'Toshiyuki ', 'Ito ', 'Daisuke ', 'Yokotsuka ', 'Yoshihide ', 'Tsujihata ', 'Shunsuke ', 'Uemura ', '1 ', 'IEEE ', 'September 2000 ', 'Enterprise Distributed Object Computing Conference ', 'http://dblp1.uni-trier.de/db/conf/edoc/edoc2000.html ', 'Makuhari, Japan ', '0769508650 ', '10.1109/EDOC.2000.882363 ']\n['https://www.omg.org/adm/EGLOverviewtoOMG.pdf ', 'Introduction to EGL ', 'IBM Software Group ', '7 May 2007 ', 'Wing Hong ', 'Ho']\n['The early history and characteristics of PL/I ', 'Academic Press ', '1981 ', 'History of Programming Languages ', 'Radin ', 'George ', 'George Radin ', 'Richard L. ', 'Wexelblat ', '10.1145/800025.1198410 ', '0127450408 ', '572 ', '1978 ']\n['October 2017 ', 'Most sources on PL/B or Databus describe it is as COBOL-like, not as *inspired by* COBOL.']\n"
    }
   ],
   "source": [
    "# mais proximo da solucao definitiva\n",
    "for param in box.params:\n",
    "    for x in param.value.filter_templates():\n",
    "        print([y.value.strip_code() for y in x.params])"
   ]
  },
  {
   "cell_type": "code",
   "execution_count": 135,
   "metadata": {},
   "outputs": [
    {
     "name": "stdout",
     "output_type": "stream",
     "text": "COBOL\n200px|alt=COBOL. Report to Conference on Data Systems Languages including initial specifications for a Common Business Oriented Language (COBOL) for programming digital electronic computers. Department of Defense, April 1960.\nThe cover of the COBOL 60 report to CODASYL (April 1960)\nProcedural, imperative, object-oriented\nyes 1959\nHoward Bromberg, Howard Discount, Vernon Reeves, Jean E. Sammet, William Selden, Gertrude Tierney, Mary K. Hawes\nCODASYL, ANSI, ISO\nISO/IEC 1989:2014\n2014\nWeak, static\nGnuCOBOL, IBM COBOL, Micro Focus Visual COBOL\nACUCOBOL-GT, COBOL-IT, COBOL/2, DEC COBOL-10, DEC VAX COBOL, DOSVS COBOL, Fujitsu COBOL, Hitachi COBOL2002, HP3000 COBOL/II, IBM COBOL SAA, IBM COBOL/400, IBM COBOL/II, IBM Enterprise COBOL, IBM ILE COBOL, IBM OS/VS COBOL, ICL COBOL (VME),  isCOBOL, Micro Focus COBOL, Microsoft COBOL, Realia COBOL, Ryan McFarland RM/COBOL, Ryan McFarland RM/COBOL-85, Tandem (NonStop) COBOL85, Tandem (NonStop) SCOBOL, UNIVAC COBOL, Unisys MCP COBOL74, Unisys MCP COBOL85, Unix COBOL X/Open, Veryant isCOBOL, Visual COBOL, Wang VS COBOL\nAIMACO, C++,2002 influence  \" SW95 \" / > < ref name= \" Arranga98 \" / > < ref > Cobol: Perception and Reality  Computer  March 1997  30  3  10.1109/2.573683  127  0018-9162  Edmund C.  Arranga  Frank P.  Coyle  < /ref >  COMTRAN, Eiffel,2002 influence FACT, FLOW-MATIC, Smalltalk2002 influence\nCobolScript, < ref > COBOL Script: a business-oriented scripting language  Tetsuji  Imajo  Tatsuki  Miyake  Shinobu  Sato  Toshiyuki  Ito  Daisuke  Yokotsuka  Yoshihide  Tsujihata  Shunsuke  Uemura  1  IEEE  September 2000  Enterprise Distributed Object Computing Conference  http://dblp1.uni-trier.de/db/conf/edoc/edoc2000.html  Makuhari, Japan  0769508650  10.1109/EDOC.2000.882363  < !--\n4 March 2015 -- > < /ref >  EGL, < ref > https://www.omg.org/adm/EGLOverviewtoOMG.pdf  Introduction to EGL  IBM Software Group  7 May 2007  Wing Hong  Ho < /ref >  PL/I, < ref > The early history and characteristics of PL/I  Academic Press  1981  History of Programming Languages  Radin  George  George Radin  Richard L.  Wexelblat  10.1145/800025.1198410  0127450408  572  1978  < !--\n23 November 2014 -- > < /ref >  PL/BOctober 2017  Most sources on PL/B or Databus describe it is as COBOL-like, not as *inspired by* COBOL.\n< code > .cbl < /code > ,  < code > .cob < /code > ,  < code > .cpy < /code >\nCOBOL\n"
    }
   ],
   "source": [
    "# box.params.strip_code()\n",
    "for param in box.params:\n",
    "    # print(param.value.filter_text())\n",
    "    # print(param.value.filter_wikilinks())\n",
    "    print(param.value.strip_code(keep_template_params=True).strip())"
   ]
  },
  {
   "cell_type": "code",
   "execution_count": 46,
   "metadata": {},
   "outputs": [
    {
     "data": {
      "text/plain": "'|name:COBOL||logo:200px|alt=COBOL. Report to Conference on Data Systems Languages including initial specifications for a Common Business Oriented Language (COBOL) for programming digital electronic computers. Department of Defense, April 1960.||logo caption:The cover of the COBOL 60 report to CODASYL (April 1960)||paradigm:Procedural, imperative, object-oriented||year:||designers:, , , , , ,||developers:CODASYL, ANSI, ISO||latest release version:ISO/IEC 1989:2014||latest release date:2014||typing:Weak, static||implementations:,||dialects:ACUCOBOL-GT, COBOL-IT, COBOL/2, DEC COBOL-10, DEC VAX COBOL, DOSVS COBOL, Fujitsu COBOL, Hitachi COBOL2002, HP3000 COBOL/II, IBM COBOL SAA, IBM COBOL/400, IBM COBOL/II, IBM Enterprise COBOL, IBM ILE COBOL, IBM OS/VS COBOL, ICL COBOL (VME),  isCOBOL, Micro Focus COBOL, Microsoft COBOL, Realia COBOL, Ryan McFarland RM/COBOL, Ryan McFarland RM/COBOL-85, Tandem (NonStop) COBOL85, Tandem (NonStop) SCOBOL, UNIVAC COBOL, Unisys MCP COBOL74, Unisys MCP COBOL85, Unix COBOL X/Open, Veryant isCOBOL, Visual COBOL, Wang VS COBOL||influenced_by:AIMACO, C++, COMTRAN, Eiffel, FACT, FLOW-MATIC, Smalltalk||influenced:CobolScript, < ref >  < !--||accessdate:4 March 2015 -- > < /ref >  EGL, < ref >  < /ref >  PL/I, < ref >  < !--||accessdate:23 November 2014 -- > < /ref >  PL/B||file_ext:< code > .cbl < /code > ,  < code > .cob < /code > ,  < code > .cpy < /code >||wikibooks:COBOL'"
     },
     "execution_count": 46,
     "metadata": {},
     "output_type": "execute_result"
    }
   ],
   "source": [
    "df[\"infobox\"][0]"
   ]
  }
 ]
}