{
 "nbformat": 4,
 "nbformat_minor": 2,
 "metadata": {
  "language_info": {
   "name": "python",
   "codemirror_mode": {
    "name": "ipython",
    "version": 3
   },
   "version": "3.7.4"
  },
  "orig_nbformat": 2,
  "file_extension": ".py",
  "mimetype": "text/x-python",
  "name": "python",
  "npconvert_exporter": "python",
  "pygments_lexer": "ipython3",
  "version": 3
 },
 "cells": [
  {
   "cell_type": "code",
   "execution_count": 1,
   "metadata": {},
   "outputs": [],
   "source": [
    "from WikiXmlHandler import WikiXmlHandler\n",
    "import xml.sax\n",
    "import mwparserfromhell\n",
    "import stanfordnlp\n",
    "\n",
    "import subprocess\n",
    "import pandas as pd\n",
    "import os\n",
    "import Utils\n",
    "\n",
    "from ProcessArticle import ProcessArticle"
   ]
  },
  {
   "cell_type": "code",
   "execution_count": 2,
   "metadata": {},
   "outputs": [],
   "source": [
    "infoboxes = pd.read_csv(\"./saved/infobox-list.csv\")[\"infobox template name\"].values.tolist()\n",
    "out_file = \"./saved/debug.csv\"\n",
    "\n",
    "func = ProcessArticle(infoboxes)"
   ]
  },
  {
   "cell_type": "code",
   "execution_count": 3,
   "metadata": {},
   "outputs": [
    {
     "name": "stdout",
     "output_type": "stream",
     "text": "Wall time: 784 ms\n"
    }
   ],
   "source": [
    "%%time\n",
    "file = \"./test_data/test.xml\"\n",
    "\n",
    "handler = WikiXmlHandler(out_file, func, 1000)\n",
    "handler._DEBUG = True\n",
    "\n",
    "parser = xml.sax.make_parser()\n",
    "parser.setContentHandler(handler)\n",
    "\n",
    "for line in open(file, \"r\", encoding=\"utf8\"):\n",
    "    parser.feed(line)\n",
    "\n",
    "# handler.write_df()"
   ]
  },
  {
   "cell_type": "code",
   "execution_count": 4,
   "metadata": {},
   "outputs": [],
   "source": [
    "n_df = pd.read_csv(out_file, delimiter=\"\\t\")"
   ]
  },
  {
   "cell_type": "code",
   "execution_count": 5,
   "metadata": {},
   "outputs": [
    {
     "data": {
      "text/html": "<div>\n<style scoped>\n    .dataframe tbody tr th:only-of-type {\n        vertical-align: middle;\n    }\n\n    .dataframe tbody tr th {\n        vertical-align: top;\n    }\n\n    .dataframe thead th {\n        text-align: right;\n    }\n</style>\n<table border=\"1\" class=\"dataframe\">\n  <thead>\n    <tr style=\"text-align: right;\">\n      <th></th>\n      <th>title</th>\n      <th>type</th>\n      <th>def words</th>\n      <th>infobox_name</th>\n      <th>infobox</th>\n      <th>categories</th>\n      <th>wikilinks</th>\n    </tr>\n  </thead>\n  <tbody>\n    <tr>\n      <th>0</th>\n      <td>Abraham Lincoln</td>\n      <td>article</td>\n      <td>-</td>\n      <td>Infobox officeholder</td>\n      <td>name:Abraham Lincoln|image:Abraham Lincoln O-7...</td>\n      <td>Abraham Lincoln|1809 births|1865 deaths|1865 m...</td>\n      <td>President of the United States|Hannibal Hamlin...</td>\n    </tr>\n    <tr>\n      <th>1</th>\n      <td>Apollo</td>\n      <td>article</td>\n      <td>-</td>\n      <td>Infobox deity</td>\n      <td>type:Greek|name:Apollo|image:File:Apollo of th...</td>\n      <td>Apollo|Arts gods|Deities in the Iliad|Dragonsl...</td>\n      <td>Apollo Belvedere|Mount Olympus|Lyre|laurel wre...</td>\n    </tr>\n    <tr>\n      <th>2</th>\n      <td>Apollo program</td>\n      <td>article</td>\n      <td>-</td>\n      <td>Infobox space program</td>\n      <td>name:Apollo program|image:frameless|upright|al...</td>\n      <td>Human spaceflight programs|Apollo program|Spac...</td>\n      <td>File:Apollo program.svg|NASA|lunar landing|Sat...</td>\n    </tr>\n  </tbody>\n</table>\n</div>",
      "text/plain": "             title     type def words           infobox_name  \\\n0  Abraham Lincoln  article         -   Infobox officeholder   \n1           Apollo  article         -          Infobox deity   \n2   Apollo program  article         -  Infobox space program   \n\n                                             infobox  \\\n0  name:Abraham Lincoln|image:Abraham Lincoln O-7...   \n1  type:Greek|name:Apollo|image:File:Apollo of th...   \n2  name:Apollo program|image:frameless|upright|al...   \n\n                                          categories  \\\n0  Abraham Lincoln|1809 births|1865 deaths|1865 m...   \n1  Apollo|Arts gods|Deities in the Iliad|Dragonsl...   \n2  Human spaceflight programs|Apollo program|Spac...   \n\n                                           wikilinks  \n0  President of the United States|Hannibal Hamlin...  \n1  Apollo Belvedere|Mount Olympus|Lyre|laurel wre...  \n2  File:Apollo program.svg|NASA|lunar landing|Sat...  "
     },
     "execution_count": 5,
     "metadata": {},
     "output_type": "execute_result"
    }
   ],
   "source": [
    "n_df"
   ]
  },
  {
   "cell_type": "code",
   "execution_count": 4,
   "metadata": {},
   "outputs": [
    {
     "data": {
      "text/html": "<div>\n<style scoped>\n    .dataframe tbody tr th:only-of-type {\n        vertical-align: middle;\n    }\n\n    .dataframe tbody tr th {\n        vertical-align: top;\n    }\n\n    .dataframe thead th {\n        text-align: right;\n    }\n</style>\n<table border=\"1\" class=\"dataframe\">\n  <thead>\n    <tr style=\"text-align: right;\">\n      <th></th>\n      <th>title</th>\n      <th>type</th>\n      <th>def words</th>\n      <th>infobox_name</th>\n      <th>infobox</th>\n      <th>categories</th>\n      <th>wikilinks</th>\n    </tr>\n  </thead>\n  <tbody>\n  </tbody>\n</table>\n</div>",
      "text/plain": "Empty DataFrame\nColumns: [title, type, def words, infobox_name, infobox, categories, wikilinks]\nIndex: []"
     },
     "execution_count": 4,
     "metadata": {},
     "output_type": "execute_result"
    }
   ],
   "source": [
    "n_df[n_df.title.str.contains(\"(?i)cobol\")]"
   ]
  },
  {
   "cell_type": "code",
   "metadata": {},
   "outputs": [],
   "source": [
    "for i, a in enumerate(handler._data):\n",
    "    if a[0] == \"List of artificial intelligence projects\":\n",
    "        print(\"{}: {}\".format(i, a[0]))"
   ]
  },
  {
   "cell_type": "code",
   "metadata": {},
   "outputs": [],
   "source": [
    "for i, a in enumerate(handler._data):\n",
    "    # if a[0] == \"COBOL\":\n",
    "    print(\"{}: {}\".format(i, a[0]))"
   ]
  },
  {
   "cell_type": "code",
   "execution_count": 4,
   "metadata": {},
   "outputs": [],
   "source": [
    "page = handler._data[0]\n",
    "text = handler._text[0]"
   ]
  },
  {
   "cell_type": "code",
   "metadata": {},
   "outputs": [],
   "source": [
    "page[4].split(\"|\")"
   ]
  },
  {
   "cell_type": "code",
   "execution_count": 5,
   "metadata": {},
   "outputs": [],
   "source": [
    "infoboxes = pd.read_csv(\"./saved/infobox-list.csv\")[\"infobox template name\"].values.tolist()\n",
    "cols = [\"title\", \"type\", \"def words\", \"infobox_name\", \"infobox\", \"categories\",\"wikilinks\"]"
   ]
  },
  {
   "cell_type": "code",
   "execution_count": 6,
   "metadata": {},
   "outputs": [],
   "source": [
    "wiki = mwparserfromhell.parse(text)"
   ]
  },
  {
   "cell_type": "code",
   "execution_count": 7,
   "metadata": {},
   "outputs": [
    {
     "data": {
      "text/plain": "'Abraham Lincoln (; February 12, 1809 – April 15, 1865) was an American statesman and lawyer who served as the 16th president of the United States from March 1861 until his assassination in April 1865. Lincoln led the nation through the American Civil War, its bloodiest war and its greatest moral, constitutional, and political crisis. He preserved the Union, abolished slavery, strengthened the federal government, and modernized the U.S. economy.'"
     },
     "execution_count": 7,
     "metadata": {},
     "output_type": "execute_result"
    }
   ],
   "source": [
    "a = wiki.strip_code().split(\"\\n\")\n",
    "a = [\" \".join(Utils.cleanhtml(x.strip()).split()) for x in a if not x.isspace() and x != \"\"]\n",
    "a = a[0] # 1st paragraph\n",
    "a"
   ]
  },
  {
   "cell_type": "code",
   "execution_count": 8,
   "metadata": {},
   "outputs": [
    {
     "name": "stdout",
     "output_type": "stream",
     "text": "Use device: cpu\n---\nLoading: tokenize\nWith settings:\n{'model_path': './stanfordnlp_resources/en_ewt_models\\\\en_ewt_tokenizer.pt', 'lang': 'en', 'shorthand': 'en_ewt', 'mode': 'predict'}\n---\nLoading: pos\nWith settings:\n{'model_path': './stanfordnlp_resources/en_ewt_models\\\\en_ewt_tagger.pt', 'pretrain_path': './stanfordnlp_resources/en_ewt_models\\\\en_ewt.pretrain.pt', 'lang': 'en', 'shorthand': 'en_ewt', 'mode': 'predict'}\n---\nLoading: lemma\nWith settings:\n{'model_path': './stanfordnlp_resources/en_ewt_models\\\\en_ewt_lemmatizer.pt', 'lang': 'en', 'shorthand': 'en_ewt', 'mode': 'predict'}\nBuilding an attentional Seq2Seq model...\nUsing a Bi-LSTM encoder\nUsing soft attention for LSTM.\nFinetune all embeddings.\n[Running seq2seq lemmatizer with edit classifier]\n---\nLoading: depparse\nWith settings:\n{'model_path': './stanfordnlp_resources/en_ewt_models\\\\en_ewt_parser.pt', 'pretrain_path': './stanfordnlp_resources/en_ewt_models\\\\en_ewt.pretrain.pt', 'lang': 'en', 'shorthand': 'en_ewt', 'mode': 'predict'}\nDone loading processors!\n---\n"
    }
   ],
   "source": [
    "nlp = stanfordnlp.Pipeline(models_dir=\"./stanfordnlp_resources/\", use_gpu=False);"
   ]
  },
  {
   "cell_type": "code",
   "execution_count": 9,
   "metadata": {},
   "outputs": [
    {
     "name": "stderr",
     "output_type": "stream",
     "text": "..\\aten\\src\\ATen\\native\\LegacyDefinitions.cpp:14: UserWarning: masked_fill_ received a mask with dtype torch.uint8, this behavior is now deprecated,please use a mask with dtype torch.bool instead.\n"
    }
   ],
   "source": [
    "doc = nlp(a)"
   ]
  },
  {
   "cell_type": "code",
   "execution_count": 38,
   "metadata": {},
   "outputs": [],
   "source": [
    "sentence = doc.sentences[0]"
   ]
  },
  {
   "cell_type": "code",
   "execution_count": 41,
   "metadata": {},
   "outputs": [
    {
     "data": {
      "text/plain": "<Word index=15;text=was;lemma=be;upos=AUX;xpos=VBD;feats=Mood=Ind|Number=Sing|Person=3|Tense=Past|VerbForm=Fin;governor=18;dependency_relation=cop>"
     },
     "execution_count": 41,
     "metadata": {},
     "output_type": "execute_result"
    }
   ],
   "source": [
    "sentence.words[14]"
   ]
  },
  {
   "cell_type": "code",
   "execution_count": 61,
   "metadata": {},
   "outputs": [
    {
     "data": {
      "text/plain": "[(1, 'January'),\n (2, 'February'),\n (3, 'March'),\n (4, 'April'),\n (5, 'May'),\n (6, 'June'),\n (7, 'July'),\n (8, 'August'),\n (9, 'September'),\n (10, 'October'),\n (11, 'November'),\n (12, 'December')]"
     },
     "execution_count": 61,
     "metadata": {},
     "output_type": "execute_result"
    }
   ],
   "source": [
    "import datetime\n",
    "\n",
    "months_choices = list()\n",
    "for i in range(1,13):\n",
    "    months_choices.append((i, datetime.date(2008, i, 1).strftime('%B')))\n",
    "\n",
    "months_choices"
   ]
  },
  {
   "cell_type": "code",
   "execution_count": 64,
   "metadata": {},
   "outputs": [
    {
     "name": "stdout",
     "output_type": "stream",
     "text": "2\tLincoln\t\t\tAbraham\t\t\tflat\n17\tamerican\t\t\tstatesman\t\t\tamod\n18\tstatesman\t\t\troot\t\t\troot\n20\tlawyer\t\t\tstatesman\t\t\tconj\n22\tserve\t\t\tlawyer\t\t\tacl:relcl\n25\t16th\t\t\tpresident\t\t\tamod\n26\tpresident\t\t\tserve\t\t\tobl\n29\tUnited\t\t\tStates\t\t\tcompound\n30\tStates\t\t\tpresident\t\t\tnmod\n36\tassassination\t\t\tserve\t\t\tobl\n"
    }
   ],
   "source": [
    "import datetime\n",
    "\n",
    "definitions = []\n",
    "no_no = [\"punct\", \"nummod\", \"appos\", \"det\", \"nmod:poss\", \"cop\", \"cc\", \"nsubj\", \"case\"]\n",
    "months = [datetime.date(2008, i, 1).strftime(\"%B\").lower() for i in range(1,13)]\n",
    "\n",
    "for word in sentence.words:\n",
    "    index = word.index.rjust(2)\n",
    "    word_lemma = word.lemma\n",
    "    governor = sentence.words[word.governor-1].lemma if word.governor > 0 else \"root\"\n",
    "    deprel = word.dependency_relation\n",
    "\n",
    "    if deprel in no_no or word_lemma.lower() in months:\n",
    "        continue\n",
    "\n",
    "    print(\"{}\\t{}\\t\\t\\t{}\\t\\t\\t{}\".format(index, word_lemma, governor, deprel))"
   ]
  },
  {
   "cell_type": "code",
   "execution_count": 45,
   "metadata": {},
   "outputs": [
    {
     "name": "stdout",
     "output_type": "stream",
     "text": "Abraham (PROPN) Lincoln (PROPN) ( (PUNCT) ; (PUNCT) February (PROPN) 12 (NUM) , (PUNCT) 1809 (NUM) – (PUNCT) April (PROPN) 15 (NUM) , (PUNCT) 1865 (NUM) ) (PUNCT) was (AUX) an (DET) American (ADJ) statesman (NOUN) and (CCONJ) lawyer (NOUN) who (PRON) served (VERB) as (ADP) the (DET) 16th (ADJ) president (NOUN) of (ADP) the (DET) United (PROPN) States (PROPN) from (ADP) March (PROPN) 1861 (NUM) until (ADP) his (PRON) assassination (NOUN) in (ADP) April (PROPN) 1865 (NUM) . (PUNCT)\n"
    }
   ],
   "source": [
    "# POS tags\n",
    "print(\" \". join([\"{} ({})\".format(word.text, word.upos) for word in sentence.words]))"
   ]
  },
  {
   "cell_type": "code",
   "execution_count": 22,
   "metadata": {},
   "outputs": [
    {
     "name": "stdout",
     "output_type": "stream",
     "text": "a\n"
    }
   ],
   "source": [
    "for word in sentence.tokens[14].words:\n",
    "    if word.lemma in [\"be\"]:\n",
    "        print(\"a\")"
   ]
  },
  {
   "cell_type": "code",
   "execution_count": 23,
   "metadata": {},
   "outputs": [
    {
     "data": {
      "text/plain": "'was'"
     },
     "execution_count": 23,
     "metadata": {},
     "output_type": "execute_result"
    }
   ],
   "source": [
    "sentence.tokens[14].text"
   ]
  },
  {
   "cell_type": "code",
   "execution_count": 37,
   "metadata": {},
   "outputs": [
    {
     "name": "stdout",
     "output_type": "stream",
     "text": "index:  1\tword: Lincoln    \tgovernor index: 2\tgovernor: led        \tdeprel: nsubj\nindex:  2\tword: led        \tgovernor index: 0\tgovernor: root       \tdeprel: root\nindex:  3\tword: the        \tgovernor index: 4\tgovernor: nation     \tdeprel: det\nindex:  4\tword: nation     \tgovernor index: 2\tgovernor: led        \tdeprel: obj\nindex:  5\tword: through    \tgovernor index: 9\tgovernor: War        \tdeprel: case\nindex:  6\tword: the        \tgovernor index: 9\tgovernor: War        \tdeprel: det\nindex:  7\tword: American   \tgovernor index: 9\tgovernor: War        \tdeprel: compound\nindex:  8\tword: Civil      \tgovernor index: 9\tgovernor: War        \tdeprel: compound\nindex:  9\tword: War        \tgovernor index: 2\tgovernor: led        \tdeprel: obl\nindex: 10\tword: ,          \tgovernor index: 9\tgovernor: War        \tdeprel: punct\nindex: 11\tword: its        \tgovernor index: 13\tgovernor: war        \tdeprel: nmod:poss\nindex: 12\tword: bloodiest  \tgovernor index: 13\tgovernor: war        \tdeprel: amod\nindex: 13\tword: war        \tgovernor index: 9\tgovernor: War        \tdeprel: conj\nindex: 14\tword: and        \tgovernor index: 23\tgovernor: crisis     \tdeprel: cc\nindex: 15\tword: its        \tgovernor index: 23\tgovernor: crisis     \tdeprel: nmod:poss\nindex: 16\tword: greatest   \tgovernor index: 23\tgovernor: crisis     \tdeprel: amod\nindex: 17\tword: moral      \tgovernor index: 23\tgovernor: crisis     \tdeprel: amod\nindex: 18\tword: ,          \tgovernor index: 19\tgovernor: constitutional\tdeprel: punct\nindex: 19\tword: constitutional\tgovernor index: 17\tgovernor: moral      \tdeprel: conj\nindex: 20\tword: ,          \tgovernor index: 22\tgovernor: political  \tdeprel: punct\nindex: 21\tword: and        \tgovernor index: 22\tgovernor: political  \tdeprel: cc\nindex: 22\tword: political  \tgovernor index: 17\tgovernor: moral      \tdeprel: conj\nindex: 23\tword: crisis     \tgovernor index: 9\tgovernor: War        \tdeprel: conj\nindex: 24\tword: .          \tgovernor index: 2\tgovernor: led        \tdeprel: punct\n"
    }
   ],
   "source": [
    "print(*[f\"index: {word.index.rjust(2)}\\tword: {word.text.ljust(11)}\\tgovernor index: {word.governor}\\tgovernor: {(sentence.words[word.governor-1].text if word.governor > 0 else 'root').ljust(11)}\\tdeprel: {word.dependency_relation}\" for word in sentence.words], sep='\\n')"
   ]
  },
  {
   "cell_type": "code",
   "execution_count": 46,
   "metadata": {},
   "outputs": [
    {
     "name": "stdout",
     "output_type": "stream",
     "text": "Abraham (PROPN - Number=Sing) Lincoln (PROPN - Number=Sing) ( (PUNCT - _) ; (PUNCT - _) February (PROPN - Number=Sing) 12 (NUM - NumType=Card) , (PUNCT - _) 1809 (NUM - NumType=Card) – (PUNCT - _) April (PROPN - Number=Sing) 15 (NUM - NumType=Card) , (PUNCT - _) 1865 (NUM - NumType=Card) ) (PUNCT - _) was (AUX - Mood=Ind|Number=Sing|Person=3|Tense=Past|VerbForm=Fin) an (DET - Definite=Ind|PronType=Art) American (ADJ - Degree=Pos) statesman (NOUN - Number=Sing) and (CCONJ - _) lawyer (NOUN - Number=Sing) who (PRON - PronType=Rel) served (VERB - Mood=Ind|Tense=Past|VerbForm=Fin) as (ADP - _) the (DET - Definite=Def|PronType=Art) 16th (ADJ - Degree=Pos|NumType=Ord) president (NOUN - Number=Sing) of (ADP - _) the (DET - Definite=Def|PronType=Art) United (PROPN - Number=Sing) States (PROPN - Number=Sing) from (ADP - _) March (PROPN - Number=Sing) 1861 (NUM - NumType=Card) until (ADP - _) his (PRON - Gender=Masc|Number=Sing|Person=3|Poss=Yes|PronType=Prs) assassination (NOUN - Number=Sing) in (ADP - _) April (PROPN - Number=Sing) 1865 (NUM - NumType=Card) . (PUNCT - _)\n"
    }
   ],
   "source": [
    "print(\" \". join([\"{} ({} - {})\".format(word.text, word.upos, word.feats) for word in sentence.words]))"
   ]
  },
  {
   "cell_type": "code",
   "execution_count": 30,
   "metadata": {},
   "outputs": [],
   "source": [
    "sentence.build_dependencies()"
   ]
  },
  {
   "cell_type": "code",
   "execution_count": 34,
   "metadata": {},
   "outputs": [
    {
     "data": {
      "text/plain": "(<Word index=18;text=statesman;lemma=statesman;upos=NOUN;xpos=NN;feats=Number=Sing;governor=0;dependency_relation=root>,\n 'nsubj',\n <Word index=1;text=Abraham;lemma=Abraham;upos=PROPN;xpos=NNP;feats=Number=Sing;governor=18;dependency_relation=nsubj>)"
     },
     "execution_count": 34,
     "metadata": {},
     "output_type": "execute_result"
    }
   ],
   "source": [
    "sentence.dependencies[0]"
   ]
  },
  {
   "cell_type": "code",
   "metadata": {},
   "outputs": [],
   "source": [
    "wiki.filter_templates(matches=\"softredirect\")"
   ]
  },
  {
   "cell_type": "code",
   "metadata": {},
   "outputs": [],
   "source": [
    "\"list of\" in wiki.filter_templates(matches=\"DEFAULTSORT\")[0].name.lower()"
   ]
  },
  {
   "cell_type": "code",
   "metadata": {},
   "outputs": [],
   "source": [
    "# Creating dict\n",
    "d = {col: [] for col in cols}\n",
    "df = pd.DataFrame(columns=cols)\n",
    "# parse page\n",
    "# wiki = mwparserfromhell.parse(page[1])"
   ]
  },
  {
   "cell_type": "code",
   "metadata": {},
   "outputs": [],
   "source": [
    "t = [None, \"3\", \"None\", \"6\", None, None,\"1\"]"
   ]
  },
  {
   "cell_type": "code",
   "metadata": {},
   "outputs": [],
   "source": [
    "[d[cols[i]].append(t[i]) for i in range(len(t))]"
   ]
  },
  {
   "cell_type": "code",
   "metadata": {},
   "outputs": [],
   "source": [
    "d"
   ]
  },
  {
   "cell_type": "code",
   "metadata": {},
   "outputs": [],
   "source": [
    "df"
   ]
  },
  {
   "cell_type": "code",
   "metadata": {},
   "outputs": [],
   "source": [
    "d"
   ]
  },
  {
   "cell_type": "code",
   "metadata": {},
   "outputs": [],
   "source": [
    "# page title\n",
    "# d[\"title\"].append(page[0])\n",
    "df[\"title\"] = [page[0]]"
   ]
  },
  {
   "cell_type": "code",
   "metadata": {},
   "outputs": [],
   "source": [
    "# defining article type\n",
    "if page[2] != None:\n",
    "    # d[\"type\"].append(\"redirect\")\n",
    "    df[\"type\"] = [\"redirect\"]\n",
    "else:\n",
    "    # d[\"type\"].append(\"article\")\n",
    "    df[\"type\"] = [\"article\"]"
   ]
  },
  {
   "cell_type": "code",
   "metadata": {},
   "outputs": [],
   "source": [
    "# Getting article categories\n",
    "# d[\"categories\"].append(\n",
    "#     \"|\".join([\n",
    "#         list(filter(None, x.title.split(\":\")))[-1]\n",
    "#         for x in wiki.filter_wikilinks(matches=\"category\")\n",
    "#     ]))\n",
    "df[\"categories\"] = [\"|\".join([\n",
    "        list(filter(None, x.title.split(\":\")))[-1]\n",
    "        for x in wiki.filter_wikilinks(matches=\"category\")\n",
    "    ])]"
   ]
  },
  {
   "cell_type": "code",
   "metadata": {},
   "outputs": [],
   "source": [
    "# wikilinks, removing links to Category items\n",
    "# d[\"wikilinks\"].append(\"|\".join(\n",
    "#     [link.title.strip_code().strip() for link in wiki.filter_wikilinks() if \"Category:\" not in link.title.strip_code().strip()]))\n",
    "\n",
    "df[\"wikilinks\"] = [\"|\".join(\n",
    "    [link.title.strip_code().strip() for link in wiki.filter_wikilinks() if \"Category:\" not in link.title.strip_code().strip()])]\n",
    "\n",
    "# external links\n",
    "# df[\"ext_links\"] = \"|\".join([link.url.strip_code().strip() for link in wiki.filter_external_links()])"
   ]
  },
  {
   "cell_type": "code",
   "metadata": {},
   "outputs": [],
   "source": [
    "import re\n",
    "\n",
    "def cleanhtml(raw_html):\n",
    "  cleanr = re.compile('<.*?>|&([a-z0-9]+|#[0-9]{1,6}|#x[0-9a-f]{1,6});')\n",
    "  cleantext = re.sub(cleanr, '', raw_html)\n",
    "  return cleantext"
   ]
  },
  {
   "cell_type": "code",
   "metadata": {},
   "outputs": [],
   "source": [
    "# search for infobox template name\n",
    "box = None\n",
    "for template in wiki.filter_templates():\n",
    "    if template.name.strip() in infoboxes:\n",
    "        box = wiki.filter_templates(matches=template.name.strip())[0]\n",
    "        # d[\"infobox_name\"].append(template.name.strip())\n",
    "        df[\"infobox_name\"] = [template.name.strip()]\n",
    "        break\n",
    "\n",
    "a = \"|\".join([\"{}:{}\".format(param.name.strip_code().strip(),\n",
    "                            param.value.strip_code(keep_template_params=True).strip()) for param in box.params])\n",
    "# d[\"infobox\"].append(cleanhtml(a))\n",
    "df[\"infobox\"] = [cleanhtml(a)]"
   ]
  },
  {
   "cell_type": "code",
   "metadata": {},
   "outputs": [],
   "source": [
    "df"
   ]
  },
  {
   "cell_type": "code",
   "metadata": {},
   "outputs": [],
   "source": [
    "df[\"infobox\"][0].split(\"|\")"
   ]
  },
  {
   "cell_type": "code",
   "metadata": {},
   "outputs": [],
   "source": [
    "df[\"wikilinks\"][0].split(\"|\")"
   ]
  },
  {
   "cell_type": "code",
   "metadata": {},
   "outputs": [],
   "source": [
    "# mais proximo da solucao definitiva\n",
    "for param in box.params:\n",
    "    for x in param.value.filter_templates():\n",
    "        print([y.value.strip_code() for y in x.params])"
   ]
  },
  {
   "cell_type": "code",
   "metadata": {},
   "outputs": [],
   "source": [
    "# box.params.strip_code()\n",
    "for param in box.params:\n",
    "    # print(param.value.filter_text())\n",
    "    # print(param.value.filter_wikilinks())\n",
    "    print(param.value.strip_code(keep_template_params=True).strip())"
   ]
  },
  {
   "cell_type": "code",
   "metadata": {},
   "outputs": [],
   "source": [
    "df[\"infobox\"][0]"
   ]
  }
 ]
}