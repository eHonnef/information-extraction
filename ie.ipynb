{
 "nbformat": 4,
 "nbformat_minor": 2,
 "metadata": {
  "language_info": {
   "name": "python",
   "codemirror_mode": {
    "name": "ipython",
    "version": 3
   },
   "version": "3.7.4"
  },
  "orig_nbformat": 2,
  "file_extension": ".py",
  "mimetype": "text/x-python",
  "name": "python",
  "npconvert_exporter": "python",
  "pygments_lexer": "ipython3",
  "version": 3
 },
 "cells": [
  {
   "cell_type": "code",
   "execution_count": 1,
   "metadata": {},
   "outputs": [],
   "source": [
    "import requests\n",
    "from bs4 import BeautifulSoup\n",
    "import subprocess\n",
    "import re\n",
    "import os\n",
    "import stanfordnlp\n",
    "import pandas as pd\n",
    "\n",
    "from WikiXmlHandler import WikiXmlHandler\n",
    "import xml.sax\n",
    "import mwparserfromhell"
   ]
  },
  {
   "cell_type": "code",
   "execution_count": 2,
   "metadata": {},
   "outputs": [],
   "source": [
    "infoboxes = pd.read_csv(\"./infobox-list.csv\")[\"infobox template name\"].values.tolist()"
   ]
  },
  {
   "cell_type": "code",
   "execution_count": 3,
   "metadata": {},
   "outputs": [],
   "source": [
    "files = os.listdir(\"./data\")\n",
    "\n",
    "handler = WikiXmlHandler(\"./out.tsv\", \"./infobox-list.csv\")\n",
    "parser = xml.sax.make_parser()\n",
    "parser.setContentHandler(handler)\n",
    "\n",
    "# handler._pages\n",
    "# for file in files:\n",
    "for line in subprocess.Popen([\"bzcat\"],\n",
    "                            stdin=open(\"data/\" + files[1]),\n",
    "                            stdout=subprocess.PIPE).stdout:\n",
    "    # if handler._counter > 50:\n",
    "        # break\n",
    "\n",
    "    parser.feed(line)"
   ]
  },
  {
   "cell_type": "code",
   "metadata": {},
   "outputs": [],
   "source": [
    "# getting paragraphs, titles and other strings are included in the list\n",
    "# eg.: == head title ==\n",
    "# eg.: <!-- this comment -->\n",
    "a = wiki.strip_code().split(\"\\n\")\n",
    "a = [x.strip() for x in a if not x.isspace()]\n",
    "a[0] # 1st paragraph"
   ]
  },
  {
   "cell_type": "code",
   "metadata": {},
   "outputs": [],
   "source": [
    "wiki = mwparserfromhell.parse(handler._pages[1][1])\n",
    "print(type(wiki))\n",
    "wiki[:100]"
   ]
  },
  {
   "cell_type": "code",
   "metadata": {},
   "outputs": [],
   "source": [
    "# nlp = stanfordnlp.Pipeline(models_dir=\"./stanfordnlp_resources/\", use_gpu=False)\n",
    "# doc = nlp(a[0])"
   ]
  },
  {
   "cell_type": "code",
   "metadata": {},
   "outputs": [],
   "source": [
    "# print(\"It split the input in {} sentences.\".format(len(doc.sentences)))"
   ]
  },
  {
   "cell_type": "code",
   "metadata": {},
   "outputs": [],
   "source": [
    "# for i, sent in enumerate(doc.sentences):\n",
    "#     print(\"[Sentence {}]\".format(i+1))\n",
    "#     for word in sent.words:\n",
    "#         print(\"{:12s}\\t{:12s}\\t{:6s}\\t{:d}\\t{:12s}\".format(\\\n",
    "#               word.text, word.lemma, word.pos, word.governor, word.dependency_relation))\n",
    "#     print(\"\")"
   ]
  }
 ]
}