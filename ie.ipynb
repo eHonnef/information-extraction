{
 "nbformat": 4,
 "nbformat_minor": 2,
 "metadata": {
  "language_info": {
   "name": "python",
   "codemirror_mode": {
    "name": "ipython",
    "version": 3
   },
   "version": "3.7.4-final"
  },
  "orig_nbformat": 2,
  "file_extension": ".py",
  "mimetype": "text/x-python",
  "name": "python",
  "npconvert_exporter": "python",
  "pygments_lexer": "ipython3",
  "version": 3,
  "kernelspec": {
   "name": "python37464bit16bfe68ae12841c89130860605802ebe",
   "display_name": "Python 3.7.4 64-bit"
  }
 },
 "cells": [
  {
   "cell_type": "code",
   "execution_count": null,
   "metadata": {},
   "outputs": [],
   "source": [
    "import requests\n",
    "from bs4 import BeautifulSoup\n",
    "import subprocess\n",
    "import re\n",
    "import os\n",
    "import stanfordnlp\n",
    "import pandas as pd\n",
    "\n",
    "from ProcessArticle import ProcessArticle\n",
    "\n",
    "from WikiArticleXmlHandler import WikiArticleXmlHandler\n",
    "from WikiDataXmlHandler import WikiDataXmlHandler\n",
    "import xml.sax\n",
    "import mwparserfromhell\n",
    "\n",
    "from timeit import default_timer as timer\n",
    "\n",
    "from multiprocessing import Pool \n",
    "from multiprocessing import Lock\n",
    "import tqdm \n",
    "\n",
    "# List of lists to single list\n",
    "from itertools import chain\n",
    "\n",
    "# Sending keyword arguments in map\n",
    "from functools import partial\n",
    "\n",
    "import gc\n",
    "\n",
    "import warnings\n",
    "warnings.filterwarnings('ignore')"
   ]
  },
  {
   "cell_type": "code",
   "execution_count": null,
   "metadata": {},
   "outputs": [],
   "source": [
    "infoboxes = pd.read_csv(\"./2.data/infobox-list.csv\")[\"infobox template name\"].values.tolist()\n",
    "\n",
    "article_folder = \"./0.articles\"\n",
    "articles = [article_folder + \"/\" + x for x in os.listdir(article_folder)]\n",
    "article = articles[0] # process only one file for now\n",
    "\n",
    "wikidata_folder = \"./1.wikidata\"\n",
    "wikidatas = [wikidata_folder + \"/\" + x for x in os.listdir(wikidata_folder)]\n",
    "wikidata = wikidatas[0]\n",
    "\n",
    "n_write = 1000\n",
    "\n",
    "out_file = \"./saved/time_test\"\n",
    "\n",
    "nlp = stanfordnlp.Pipeline(models_dir=\"./stanfordnlp_resources/\", use_gpu=False);\n",
    "\n",
    "func = ProcessArticle(infoboxes, nlp)"
   ]
  },
  {
   "cell_type": "code",
   "execution_count": null,
   "metadata": {},
   "outputs": [],
   "source": [
    "if not os.path.exists(out_file + \"_wikidata.csv\"):\n",
    "    pd.DataFrame(columns=[\"title\", \"label\", \"type\"]).to_csv(\n",
    "        out_file + \"_wikidata.csv\", header=True, index=False, sep=\"\\t\")"
   ]
  },
  {
   "cell_type": "code",
   "execution_count": null,
   "metadata": {},
   "outputs": [],
   "source": [
    "%%time\n",
    "\n",
    "handler = WikiDataXmlHandler(out_file + \"_wikidata.csv\")\n",
    "parser = xml.sax.make_parser()\n",
    "parser.setContentHandler(handler)\n",
    "\n",
    "print(\"Started processing: {}\".format(wikidata))\n",
    "for line in subprocess.Popen([\"bzcat\"],\n",
    "                        stdin=open(wikidata),\n",
    "                        stdout=subprocess.PIPE).stdout:\n",
    "    try:\n",
    "        parser.feed(line)\n",
    "\n",
    "        if handler._ready and (handler._counter % n_write) == 0:\n",
    "            handler.write_df()\n",
    "    except StopIteration:\n",
    "        break\n",
    "\n",
    "# making sure that everything was written to the file\n",
    "handler.write_df()"
   ]
  },
  {
   "cell_type": "code",
   "execution_count": null,
   "metadata": {},
   "outputs": [],
   "source": [
    "%%time\n",
    "\n",
    "handler = WikiArticleXmlHandler(out_file + \".csv\", func)\n",
    "parser = xml.sax.make_parser()\n",
    "parser.setContentHandler(handler)\n",
    "\n",
    "print(\"Started processing: {}\".format(article))\n",
    "for line in subprocess.Popen([\"bzcat\"],\n",
    "                        stdin=open(article),\n",
    "                        stdout=subprocess.PIPE).stdout:\n",
    "    try:\n",
    "        parser.feed(line)\n",
    "\n",
    "        if handler._ready and (handler._counter % 100) == 0:\n",
    "            handler.write_df()\n",
    "    except StopIteration:\n",
    "        break\n",
    "\n",
    "# making sure that everything was written to the file\n",
    "handler.write_df()"
   ]
  }
 ]
}