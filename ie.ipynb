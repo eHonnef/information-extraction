{
 "nbformat": 4,
 "nbformat_minor": 2,
 "metadata": {
  "language_info": {
   "name": "python",
   "codemirror_mode": {
    "name": "ipython",
    "version": 3
   },
   "version": "3.7.4-final"
  },
  "orig_nbformat": 2,
  "file_extension": ".py",
  "mimetype": "text/x-python",
  "name": "python",
  "npconvert_exporter": "python",
  "pygments_lexer": "ipython3",
  "version": 3,
  "kernelspec": {
   "name": "python37464bit16bfe68ae12841c89130860605802ebe",
   "display_name": "Python 3.7.4 64-bit"
  }
 },
 "cells": [
  {
   "cell_type": "code",
   "execution_count": 2,
   "metadata": {},
   "outputs": [],
   "source": [
    "import requests\n",
    "from bs4 import BeautifulSoup\n",
    "import subprocess\n",
    "import re\n",
    "import os\n",
    "import stanfordnlp\n",
    "import pandas as pd\n",
    "\n",
    "from ProcessArticle import ProcessArticle\n",
    "\n",
    "from WikiArticleXmlHandler import WikiArticleXmlHandler\n",
    "from WikiDataXmlHandler import WikiDataXmlHandler\n",
    "import xml.sax\n",
    "import mwparserfromhell\n",
    "\n",
    "from timeit import default_timer as timer\n",
    "\n",
    "from multiprocessing import Pool \n",
    "from multiprocessing import Lock\n",
    "import tqdm \n",
    "\n",
    "# List of lists to single list\n",
    "from itertools import chain\n",
    "\n",
    "# Sending keyword arguments in map\n",
    "from functools import partial\n",
    "\n",
    "import gc\n",
    "\n",
    "import warnings\n",
    "warnings.filterwarnings('ignore')"
   ]
  },
  {
   "cell_type": "code",
   "execution_count": 3,
   "metadata": {},
   "outputs": [
    {
     "name": "stdout",
     "output_type": "stream",
     "text": "Use device: cpu\n---\nLoading: tokenize\nWith settings:\n{'model_path': './stanfordnlp_resources/en_ewt_models\\\\en_ewt_tokenizer.pt', 'lang': 'en', 'shorthand': 'en_ewt', 'mode': 'predict'}\n---\nLoading: pos\nWith settings:\n{'model_path': './stanfordnlp_resources/en_ewt_models\\\\en_ewt_tagger.pt', 'pretrain_path': './stanfordnlp_resources/en_ewt_models\\\\en_ewt.pretrain.pt', 'lang': 'en', 'shorthand': 'en_ewt', 'mode': 'predict'}\n---\nLoading: lemma\nWith settings:\n{'model_path': './stanfordnlp_resources/en_ewt_models\\\\en_ewt_lemmatizer.pt', 'lang': 'en', 'shorthand': 'en_ewt', 'mode': 'predict'}\nBuilding an attentional Seq2Seq model...\nUsing a Bi-LSTM encoder\nUsing soft attention for LSTM.\nFinetune all embeddings.\n[Running seq2seq lemmatizer with edit classifier]\n---\nLoading: depparse\nWith settings:\n{'model_path': './stanfordnlp_resources/en_ewt_models\\\\en_ewt_parser.pt', 'pretrain_path': './stanfordnlp_resources/en_ewt_models\\\\en_ewt.pretrain.pt', 'lang': 'en', 'shorthand': 'en_ewt', 'mode': 'predict'}\nDone loading processors!\n---\n"
    }
   ],
   "source": [
    "infoboxes = pd.read_csv(\"./2.data/infobox-list.csv\")[\"infobox template name\"].values.tolist()\n",
    "\n",
    "article_folder = \"./0.articles\"\n",
    "articles = [article_folder + \"/\" + x for x in os.listdir(article_folder)]\n",
    "article = articles[0] # process only one file for now\n",
    "\n",
    "wikidata_folder = \"./1.wikidata\"\n",
    "wikidatas = [wikidata_folder + \"/\" + x for x in os.listdir(wikidata_folder)]\n",
    "wikidata = wikidatas[0]\n",
    "\n",
    "out_file = \"./saved/n_out_nlp_\"\n",
    "\n",
    "nlp = stanfordnlp.Pipeline(models_dir=\"./stanfordnlp_resources/\", use_gpu=False);\n",
    "\n",
    "func = ProcessArticle(infoboxes, nlp)"
   ]
  },
  {
   "cell_type": "code",
   "execution_count": 4,
   "metadata": {},
   "outputs": [],
   "source": [
    "if not os.path.exists(out_file + \"_wikidata.csv\"):\n",
    "    pd.DataFrame(columns=[\"title\", \"label\", \"type\"]).to_csv(\n",
    "        out_file + \"_wikidata.csv\", header=True, index=False, sep=\"\\t\")"
   ]
  },
  {
   "cell_type": "code",
   "execution_count": 5,
   "metadata": {},
   "outputs": [
    {
     "name": "stdout",
     "output_type": "stream",
     "text": "Q237048\nNo english (en) available for Q237052\nNo english (en) available for Q237059\nNo english (en) available for Q237062\nNo english (en) available for Q237069\nNo english (en) available for Q237079\nNo english (en) available for Q237091\nNo english (en) available for Q237094\nNo english (en) available for Q237097\nNo english (en) available for Q237101\nNo type key in: Q237118\nNo english (en) available for Q237137\nNo english (en) available for Q237153\nNo english (en) available for Q237158\nNo english (en) available for Q237163\nNo english (en) available for Q237172\nNo english (en) available for Q237176\nNo english (en) available for Q237180\nNo english (en) available for Q237188\nNo english (en) available for Q237192\nNo english (en) available for Q237198\nNo english (en) available for Q237243\nNo english (en) available for Q237262\nNo type key in: Q237274\nNo english (en) available for Q237296\nNo english (en) available for Q237297\nNo english (en) available for Q237300\nNo english (en) available for Q237301\nNo english (en) available for Q237305\nNo english (en) available for Q237317\nNo english (en) available for Q237320\nNo english (en) available for Q237323\nNo english (en) available for Q237327\nNo english (en) available for Q237330\nNo english (en) available for Q237334\nNo english (en) available for Q237337\nNo english (en) available for Q237344\nNo english (en) available for Q237374\nNo english (en) available for Q237377\nNo english (en) available for Q237380\nNo english (en) available for Q237383\nNo english (en) available for Q237401\nNo english (en) available for Q237404\nNo english (en) available for Q237411\nNo english (en) available for Q237415\nNo english (en) available for Q237419\nNo english (en) available for Q237422\nNo english (en) available for Q237425\nNo english (en) available for Q237430\nNo english (en) available for Q237433\nNo english (en) available for Q237441\nNo english (en) available for Q237444\nNo english (en) available for Q237447\nNo english (en) available for Q237451\nNo english (en) available for Q237456\nNo english (en) available for Q237459\nNo english (en) available for Q237464\nNo english (en) available for Q237468\nNo english (en) available for Q237471\nNo english (en) available for Q237475\nNo english (en) available for Q237478\nNo english (en) available for Q237483\nNo english (en) available for Q237487\nNo english (en) available for Q237491\nNo english (en) available for Q237495\nNo english (en) available for Q237498\nNo english (en) available for Q237502\nNo english (en) available for Q237505\nNo english (en) available for Q237508\nNo english (en) available for Q237511\nNo english (en) available for Q237515\nNo english (en) available for Q237519\nNo english (en) available for Q237523\nNo english (en) available for Q237528\nNo english (en) available for Q237531\nNo english (en) available for Q237538\nNo english (en) available for Q237542\nNo english (en) available for Q237546\nNo english (en) available for Q237549\nNo english (en) available for Q237553\nNo english (en) available for Q237559\nNo english (en) available for Q237563\nNo english (en) available for Q237574\nNo english (en) available for Q237578\nNo english (en) available for Q237582\nNo english (en) available for Q237585\nNo english (en) available for Q237589\nNo english (en) available for Q237593\nNo english (en) available for Q237597\nNo english (en) available for Q237601\nNo english (en) available for Q237606\nNo english (en) available for Q237610\nNo english (en) available for Q237613\nNo english (en) available for Q237617\nNo english (en) available for Q237621\nNo english (en) available for Q237628\nNo english (en) available for Q237635\nNo english (en) available for Q237638\nNo english (en) available for Q237641\nNo english (en) available for Q237644\nNo english (en) available for Q237647\nNo english (en) available for Q237653\nNo english (en) available for Q237657\nNo english (en) available for Q237665\nNo english (en) available for Q237667\nNo english (en) available for Q237672\nNo english (en) available for Q237676\nNo english (en) available for Q237679\nNo english (en) available for Q237686\nNo english (en) available for Q237689\nNo english (en) available for Q237695\nNo english (en) available for Q237698\nNo english (en) available for Q237702\nNo english (en) available for Q237705\nNo english (en) available for Q237707\nNo english (en) available for Q237711\nNo english (en) available for Q237716\nNo english (en) available for Q237720\nNo english (en) available for Q237719\nNo english (en) available for Q237725\nNo english (en) available for Q237728\nNo english (en) available for Q237729\nNo english (en) available for Q237733\nNo english (en) available for Q237736\nNo english (en) available for Q237738\nNo english (en) available for Q237743\nNo english (en) available for Q237746\nNo english (en) available for Q237748\nNo english (en) available for Q237751\nNo english (en) available for Q237755\nNo english (en) available for Q237759\nNo english (en) available for Q237763\nNo english (en) available for Q237767\nNo english (en) available for Q237771\nNo english (en) available for Q237788\nNo english (en) available for Q237792\nNo english (en) available for Q237799\nNo english (en) available for Q237802\nNo english (en) available for Q237807\nNo english (en) available for Q237811\nNo english (en) available for Q237814\nNo english (en) available for Q237815\nNo english (en) available for Q237818\nNo english (en) available for Q237826\nNo english (en) available for Q237838\nLabel key not found in Q237842\nNo english (en) available for Q237845\nNo english (en) available for Q237857\nNo english (en) available for Q237860\nNo english (en) available for Q237863\nNo english (en) available for Q237866\nNo english (en) available for Q237869\nNo english (en) available for Q237873\nNo english (en) available for Q237877\nNo english (en) available for Q237881\nNo english (en) available for Q237885\nNo english (en) available for Q237888\nNo english (en) available for Q237892\nNo english (en) available for Q237895\nNo english (en) available for Q237899\nSaved to csv, current number of articles <215000>\nNo english (en) available for Q237906\nNo english (en) available for Q237910\nNo english (en) available for Q237913\nNo english (en) available for Q237916\nNo english (en) available for Q237924\nNo english (en) available for Q237927\nNo english (en) available for Q237930\nNo english (en) available for Q237933\nNo english (en) available for Q237936\nNo english (en) available for Q237938\nNo english (en) available for Q237942\nNo type key in: Q237945\nNo english (en) available for Q237947\nNo english (en) available for Q237949\nNo english (en) available for Q237954\nNo english (en) available for Q237958\nNo english (en) available for Q237967\nNo english (en) available for Q237972\nNo english (en) available for Q237975\nNo english (en) available for Q237977\nNo english (en) available for Q237980\nNo english (en) available for Q237985\nNo english (en) available for Q237989\nNo english (en) available for Q237996\nNo english (en) available for Q238003\nNo english (en) available for Q238006\nNo english (en) available for Q238009\nNo english (en) available for Q238013\nNo english (en) available for Q238017\nNo english (en) available for Q238022\nNo english (en) available for Q238027\nNo english (en) available for Q238033\nNo english (en) available for Q238038\nNo english (en) available for Q238043\nLabel key not found in Q238054\nNo english (en) available for Q238058\nNo english (en) available for Q238064\nNo english (en) available for Q238069\nNo english (en) available for Q238077\nNo english (en) available for Q238078\nNo english (en) available for Q238088\nNo english (en) available for Q238092\nNo english (en) available for Q238094\nit's a list (wtf?) Q238097\nNo english (en) available for Q238099\nNo english (en) available for Q238103\nNo english (en) available for Q238109\nNo english (en) available for Q238115\nNo english (en) available for Q238120\nNo english (en) available for Q238123\nNo english (en) available for Q238127\nNo english (en) available for Q238135\nNo english (en) available for Q238145\nNo english (en) available for Q238149\nNo english (en) available for Q238153\nNo english (en) available for Q238159\nNo english (en) available for Q238174\nNo english (en) available for Q238183\nNo english (en) available for Q238189\nNo english (en) available for Q238193\nNo english (en) available for Q238198\nNo english (en) available for Q238213\nNo english (en) available for Q238216\nNo english (en) available for Q238220\nNo english (en) available for Q238228\nNo english (en) available for Q238234\nNo english (en) available for Q238239\nNo english (en) available for Q238244\nNo english (en) available for Q238253\nNo english (en) available for Q238254\nNo english (en) available for Q238260\nNo english (en) available for Q238265\nNo english (en) available for Q238276\nNo english (en) available for Q238281\nNo english (en) available for Q238287\nNo english (en) available for Q238291\nNo english (en) available for Q238292\nNo english (en) available for Q238297\nNo english (en) available for Q238300\nNo english (en) available for Q238308\nNo english (en) available for Q238313\nNo english (en) available for Q238328\nNo english (en) available for Q238332\nNo english (en) available for Q238335\nNo english (en) available for Q238346\nNo english (en) available for Q238351\nNo english (en) available for Q238355\nNo english (en) available for Q238360\nNo english (en) available for Q238370\nNo english (en) available for Q238390\nNo english (en) available for Q238405\nNo english (en) available for Q238409\nNo english (en) available for Q238412\nNo english (en) available for Q238413\nNo english (en) available for Q238417\nNo english (en) available for Q238421\nNo english (en) available for Q238424\nNo english (en) available for Q238427\nNo english (en) available for Q238436\nNo english (en) available for Q238441\nLabel key not found in Q238442\nNo english (en) available for Q238446\nLabel key not found in Q238450\nNo english (en) available for Q238455\nNo english (en) available for Q238457\nNo type key in: Q238459\nNo english (en) available for Q238462\nNo type key in: Q238463\nNo english (en) available for Q238467\nNo english (en) available for Q238481\nNo english (en) available for Q238491\nLabel key not found in Q238493\nNo english (en) available for Q238495\nNo english (en) available for Q238497\nNo english (en) available for Q238503\nNo english (en) available for Q238520\nNo english (en) available for Q238534\nNo english (en) available for Q238540\nNo english (en) available for Q238543\nNo english (en) available for Q238553\nNo english (en) available for Q238562\nNo type key in: Q238570\nNo english (en) available for Q238572\nNo english (en) available for Q238578\nNo english (en) available for Q238582\nNo english (en) available for Q238605\nNo type key in: Q238612\nNo english (en) available for Q238613\nNo type key in: Q238614\nNo english (en) available for Q238621\nNo english (en) available for Q238633\nNo type key in: Q238636\nNo english (en) available for Q238640\nNo english (en) available for Q238646\nNo english (en) available for Q238653\nNo english (en) available for Q238662\nNo english (en) available for Q238668\nNo english (en) available for Q238669\nNo english (en) available for Q238677\nNo english (en) available for Q238684\nNo english (en) available for Q238699\nNo english (en) available for Q238703\nNo english (en) available for Q238710\nNo english (en) available for Q238718\nNo english (en) available for Q238726\nNo english (en) available for Q238734\nNo english (en) available for Q238740\nNo english (en) available for Q238753\nNo english (en) available for Q238760\nNo english (en) available for Q238761\nNo english (en) available for Q238778\nNo english (en) available for Q238781\nNo english (en) available for Q238783\nNo english (en) available for Q238792\nNo english (en) available for Q238799\nNo english (en) available for Q238805\nNo english (en) available for Q238808\nNo english (en) available for Q238818\nNo english (en) available for Q238824\nNo english (en) available for Q238837\nNo english (en) available for Q238844\nNo english (en) available for Q238848\nNo english (en) available for Q238852\nNo english (en) available for Q238859\nNo english (en) available for Q238865\nNo english (en) available for Q238876\nNo type key in: Q238879\nNo english (en) available for Q238882\nNo english (en) available for Q238889\nNo english (en) available for Q238893\nNo english (en) available for Q238894\nNo english (en) available for Q238899\nLabel key not found in Q238904\nNo english (en) available for Q238905\nNo english (en) available for Q238911\nNo english (en) available for Q238918\nNo english (en) available for Q238923\nNo english (en) available for Q238933\nNo english (en) available for Q238937\nNo english (en) available for Q238943\nNo english (en) available for Q238946\nNo english (en) available for Q238952\nNo english (en) available for Q238957\nNo english (en) available for Q238964\nNo english (en) available for Q238969\nLabel key not found in Q238976\nNo english (en) available for Q238977\nNo english (en) available for Q238984\nNo english (en) available for Q238985\nNo english (en) available for Q238988\nNo english (en) available for Q238989\nNo english (en) available for Q238992\nNo english (en) available for Q238999\nNo english (en) available for Q239007\nNo english (en) available for Q239009\nNo type key in: Q239012\nNo english (en) available for Q239022\nNo english (en) available for Q239026\nNo english (en) available for Q239034\nNo english (en) available for Q239042\nNo english (en) available for Q239055\nNo english (en) available for Q239061\nNo english (en) available for Q239065\nNo english (en) available for Q239066\nNo english (en) available for Q239073\nNo english (en) available for Q239079\nNo english (en) available for Q239083\nNo english (en) available for Q239102\nNo english (en) available for Q239110\nNo english (en) available for Q239111\nNo english (en) available for Q239116\nNo english (en) available for Q239120\nNo english (en) available for Q239132\nNo english (en) available for Q239134\nNo english (en) available for Q239142\nNo english (en) available for Q239148\nNo english (en) available for Q239153\nNo english (en) available for Q239158\nNo english (en) available for Q239163\nNo english (en) available for Q239167\nNo type key in: Q239174\nNo type key in: Q239179\nNo english (en) available for Q239184\nNo english (en) available for Q239188\nNo english (en) available for Q239191\nSaved to csv, current number of articles <216000>\nNo english (en) available for Q239198\nNo english (en) available for Q239199\nNo english (en) available for Q239204\nNo english (en) available for Q239207\nNo english (en) available for Q239210\nNo english (en) available for Q239219\nNo type key in: Q239224\nNo english (en) available for Q239227\nNo type key in: Q239232\nNo english (en) available for Q239238\nNo english (en) available for Q239244\nNo english (en) available for Q239252\nNo english (en) available for Q239254\nNo english (en) available for Q239258\nNo english (en) available for Q239262\nNo english (en) available for Q239268\nNo english (en) available for Q239271\nNo type key in: Q239277\nNo english (en) available for Q239282\nNo english (en) available for Q239286\nNo english (en) available for Q239306\nNo english (en) available for Q239313\nNo english (en) available for Q239319\nNo english (en) available for Q239325\nNo english (en) available for Q239345\nNo english (en) available for Q239351\nNo english (en) available for Q239358\nNo english (en) available for Q239363\nLabel key not found in Q239369\nNo english (en) available for Q239388\nNo english (en) available for Q239395\nNo english (en) available for Q239402\nNo type key in: Q239409\nNo english (en) available for Q239417\nNo english (en) available for Q239424\nNo english (en) available for Q239430\nNo english (en) available for Q239436\nNo english (en) available for Q239444\nNo english (en) available for Q239449\nNo english (en) available for Q239454\nNo english (en) available for Q239457\nNo english (en) available for Q239465\nit's a list (wtf?) Q239504\nNo type key in: Q239557\nNo type key in: Q239588\nNo english (en) available for Q239603\nLabel key not found in Q239606\nNo english (en) available for Q239608\nNo english (en) available for Q239615\nNo english (en) available for Q239629\nNo english (en) available for Q239635\nNo english (en) available for Q239636\nNo type key in: Q239639\nNo english (en) available for Q239642\nNo english (en) available for Q239644\nNo english (en) available for Q239648\nNo english (en) available for Q239658\nNo english (en) available for Q239666\nNo english (en) available for Q239673\nNo english (en) available for Q239701\nNo english (en) available for Q239703\nNo english (en) available for Q239705\nNo english (en) available for Q239706\nNo english (en) available for Q239707\nNo english (en) available for Q239711\nNo english (en) available for Q239712\nLabel key not found in Q239715\nit's a list (wtf?) Q239719\nNo type key in: Q239735\nNo english (en) available for Q239759\nNo english (en) available for Q239811\nNo english (en) available for Q239836\nNo type key in: Q239862\nNo english (en) available for Q239915\nNo english (en) available for Q239945\nNo english (en) available for Q239947\nNo english (en) available for Q239953\nNo english (en) available for Q239990\nNo english (en) available for Q239996\nNo english (en) available for Q240011\nNo english (en) available for Q240022\nNo english (en) available for Q240037\nNo english (en) available for Q240054\nNo english (en) available for Q240078\nNo english (en) available for Q240133\nNo english (en) available for Q240138\nNo english (en) available for Q240148\nNo english (en) available for Q240165\nNo english (en) available for Q240181\nNo english (en) available for Q240197\nNo english (en) available for Q240203\nit's a list (wtf?) Q240207\nNo type key in: Q240215\nNo english (en) available for Q240234\nID or datavalue not found Q240260\nNo english (en) available for Q240268\nit's a list (wtf?) Q240270\nNo english (en) available for Q240315\nSaved to csv, current number of articles <217000>\nNo english (en) available for Q240346\nNo english (en) available for Q240361\nNo english (en) available for Q240384\nNo english (en) available for Q240391\nNo type key in: Q240435\nNo english (en) available for Q240439\nNo english (en) available for Q240447\nNo english (en) available for Q240451\nNo english (en) available for Q240536\nLabel key not found in Q240603\nNo english (en) available for Q240613\nNo english (en) available for Q240687\nNo type key in: Q240698\nNo english (en) available for Q240733\nit's a list (wtf?) Q240775\nNo type key in: Q240838\nNo type key in: Q240863\nNo type key in: Q240889\nNo english (en) available for Q240941\nit's a list (wtf?) Q240945\nNo english (en) available for Q240947\nNo english (en) available for Q240972\nNo type key in: Q241007\nNo english (en) available for Q241016\nNo type key in: Q241039\nNo english (en) available for Q241060\nNo type key in: Q241065\nNo english (en) available for Q241169\nNo type key in: Q241190\nNo english (en) available for Q241225\nNo type key in: Q241230\nNo english (en) available for Q241231\nit's a list (wtf?) Q241241\nit's a list (wtf?) Q241262\nNo english (en) available for Q241292\nNo english (en) available for Q241346\nNo english (en) available for Q241359\nNo english (en) available for Q241406\nSaved to csv, current number of articles <218000>\nNo english (en) available for Q241417\nNo english (en) available for Q241427\nNo type key in: Q241431\nNo type key in: Q241433\nit's a list (wtf?) Q241448\nNo english (en) available for Q241464\nNo english (en) available for Q241512\nNo english (en) available for Q241513\nNo english (en) available for Q241536\nNo english (en) available for Q241556\nNo english (en) available for Q241586\nNo type key in: Q241652\nNo english (en) available for Q241694\nNo english (en) available for Q241697\nNo type key in: Q241784\nNo type key in: Q241804\nNo english (en) available for Q241915\nNo english (en) available for Q241988\nSaved to csv, current number of articles <218590>\nWall time: 17min 45s\n"
    }
   ],
   "source": [
    "%%time\n",
    "\n",
    "handler = WikiDataXmlHandler(out_file + \"_wikidata.csv\")\n",
    "parser = xml.sax.make_parser()\n",
    "parser.setContentHandler(handler)\n",
    "\n",
    "print(\"Started processing: {}\".format(wikidata))\n",
    "for line in subprocess.Popen([\"bzcat\"],\n",
    "                        stdin=open(wikidata),\n",
    "                        stdout=subprocess.PIPE).stdout:\n",
    "    try:\n",
    "        parser.feed(line)\n",
    "    except StopIteration:\n",
    "        break\n",
    "\n",
    "# making sure that everything was written to the file\n",
    "handler.write_df()"
   ]
  },
  {
   "cell_type": "code",
   "execution_count": null,
   "metadata": {},
   "outputs": [],
   "source": [
    "%%time\n",
    "\n",
    "handler = WikiArticleXmlHandler(out_file + \".csv\", func, 5000)\n",
    "parser = xml.sax.make_parser()\n",
    "parser.setContentHandler(handler)\n",
    "\n",
    "print(\"Started processing: {}\".format(article))\n",
    "for line in subprocess.Popen([\"bzcat\"],\n",
    "                        stdin=open(article),\n",
    "                        stdout=subprocess.PIPE).stdout:\n",
    "    try:\n",
    "        parser.feed(line)\n",
    "    except StopIteration:\n",
    "        break\n",
    "\n",
    "# making sure that everything was written to the file\n",
    "handler.write_df()"
   ]
  }
 ]
}