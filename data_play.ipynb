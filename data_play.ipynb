{
 "nbformat": 4,
 "nbformat_minor": 2,
 "metadata": {
  "language_info": {
   "name": "python",
   "codemirror_mode": {
    "name": "ipython",
    "version": 3
   },
   "version": "3.7.4-final"
  },
  "orig_nbformat": 2,
  "file_extension": ".py",
  "mimetype": "text/x-python",
  "name": "python",
  "npconvert_exporter": "python",
  "pygments_lexer": "ipython3",
  "version": 3,
  "kernelspec": {
   "name": "python37464bit16bfe68ae12841c89130860605802ebe",
   "display_name": "Python 3.7.4 64-bit"
  }
 },
 "cells": [
  {
   "cell_type": "code",
   "execution_count": 1,
   "metadata": {},
   "outputs": [],
   "source": [
    "import pandas as pd"
   ]
  },
  {
   "cell_type": "code",
   "execution_count": 2,
   "metadata": {},
   "outputs": [],
   "source": [
    "df = pd.read_csv(\"./saved/out_nlp_.csv\", delimiter=\"\\t\")"
   ]
  },
  {
   "cell_type": "code",
   "execution_count": 3,
   "metadata": {},
   "outputs": [],
   "source": [
    "df1 = pd.read_csv(\"./saved/n_out_nlp__wikidata.csv\", delimiter=\"\\t\")"
   ]
  },
  {
   "cell_type": "code",
   "execution_count": null,
   "metadata": {},
   "outputs": [],
   "source": [
    "df.tail(5)"
   ]
  },
  {
   "cell_type": "code",
   "execution_count": null,
   "metadata": {},
   "outputs": [],
   "source": [
    "df1.head(5)"
   ]
  },
  {
   "cell_type": "markdown",
   "execution_count": null,
   "metadata": {},
   "outputs": [],
   "source": [
    "### Filtering the dataframe"
   ]
  },
  {
   "cell_type": "code",
   "execution_count": 4,
   "metadata": {},
   "outputs": [],
   "source": [
    "df = df[df[\"def words\"] != \"-\"]"
   ]
  },
  {
   "cell_type": "code",
   "execution_count": 5,
   "metadata": {},
   "outputs": [
    {
     "data": {
      "text/html": "<div>\n<style scoped>\n    .dataframe tbody tr th:only-of-type {\n        vertical-align: middle;\n    }\n\n    .dataframe tbody tr th {\n        vertical-align: top;\n    }\n\n    .dataframe thead th {\n        text-align: right;\n    }\n</style>\n<table border=\"1\" class=\"dataframe\">\n  <thead>\n    <tr style=\"text-align: right;\">\n      <th></th>\n      <th>title</th>\n      <th>label</th>\n      <th>type</th>\n    </tr>\n  </thead>\n  <tbody>\n    <tr>\n      <th>1</th>\n      <td>Q17</td>\n      <td>Japan</td>\n      <td>Q3624078|Q112099|Q6256</td>\n    </tr>\n    <tr>\n      <th>2</th>\n      <td>Q18</td>\n      <td>South America</td>\n      <td>Q5107|Q855697</td>\n    </tr>\n  </tbody>\n</table>\n</div>",
      "text/plain": "  title          label                    type\n1   Q17          Japan  Q3624078|Q112099|Q6256\n2   Q18  South America           Q5107|Q855697"
     },
     "execution_count": 5,
     "metadata": {},
     "output_type": "execute_result"
    }
   ],
   "source": [
    "n_df1 = df1[df1[\"label\"].isin(df[\"title\"])]\n",
    "n_df1.head(2)"
   ]
  },
  {
   "cell_type": "code",
   "execution_count": 6,
   "metadata": {},
   "outputs": [
    {
     "data": {
      "text/html": "<div>\n<style scoped>\n    .dataframe tbody tr th:only-of-type {\n        vertical-align: middle;\n    }\n\n    .dataframe tbody tr th {\n        vertical-align: top;\n    }\n\n    .dataframe thead th {\n        text-align: right;\n    }\n</style>\n<table border=\"1\" class=\"dataframe\">\n  <thead>\n    <tr style=\"text-align: right;\">\n      <th></th>\n      <th>title</th>\n      <th>type</th>\n      <th>def words</th>\n      <th>infobox_name</th>\n      <th>infobox</th>\n      <th>categories</th>\n      <th>wikilinks</th>\n    </tr>\n  </thead>\n  <tbody>\n    <tr>\n      <th>3</th>\n      <td>A</td>\n      <td>article</td>\n      <td>first|letter</td>\n      <td>-</td>\n      <td>-</td>\n      <td>ISO basic Latin letters|Vowel letters</td>\n      <td>A#Related characters|Latin script|Alphabet|Log...</td>\n    </tr>\n    <tr>\n      <th>4</th>\n      <td>Alabama</td>\n      <td>article</td>\n      <td>state</td>\n      <td>Infobox U.S. state</td>\n      <td>official_name:State of Alabama|name:Alabama|im...</td>\n      <td>Alabama|1819 establishments in the United Stat...</td>\n      <td>Coat of arms of Alabama|Northern flicker|Dixie...</td>\n    </tr>\n  </tbody>\n</table>\n</div>",
      "text/plain": "     title     type     def words        infobox_name  \\\n3        A  article  first|letter                   -   \n4  Alabama  article         state  Infobox U.S. state   \n\n                                             infobox  \\\n3                                                  -   \n4  official_name:State of Alabama|name:Alabama|im...   \n\n                                          categories  \\\n3              ISO basic Latin letters|Vowel letters   \n4  Alabama|1819 establishments in the United Stat...   \n\n                                           wikilinks  \n3  A#Related characters|Latin script|Alphabet|Log...  \n4  Coat of arms of Alabama|Northern flicker|Dixie...  "
     },
     "execution_count": 6,
     "metadata": {},
     "output_type": "execute_result"
    }
   ],
   "source": [
    "n_df = df[df.title.isin(df1[\"label\"])]\n",
    "n_df.head(2)"
   ]
  },
  {
   "cell_type": "markdown",
   "execution_count": null,
   "metadata": {},
   "outputs": [],
   "source": [
    "### Getting the categories (or types, eg. human, etc)"
   ]
  },
  {
   "cell_type": "code",
   "execution_count": null,
   "metadata": {},
   "outputs": [],
   "source": [
    "cat = set()\n",
    "for i in df1[\"type\"]:\n",
    "    cat.update(str(i).split(\"|\"))"
   ]
  },
  {
   "cell_type": "code",
   "execution_count": null,
   "metadata": {},
   "outputs": [],
   "source": [
    "categories = df1[df1.title.isin(cat)]"
   ]
  },
  {
   "cell_type": "code",
   "execution_count": null,
   "metadata": {},
   "outputs": [],
   "source": [
    "categories"
   ]
  },
  {
   "cell_type": "code",
   "execution_count": null,
   "metadata": {},
   "outputs": [],
   "source": [
    "df1[df1[\"title\"] == \"Q89934\"]"
   ]
  },
  {
   "cell_type": "markdown",
   "execution_count": null,
   "metadata": {},
   "outputs": [],
   "source": [
    "# Organizing data"
   ]
  },
  {
   "cell_type": "code",
   "execution_count": 9,
   "metadata": {},
   "outputs": [],
   "source": [
    "from collections import defaultdict\n",
    "\n",
    "s_data = {}\n",
    "for i, row in n_df.iterrows():\n",
    "    # tmp = categories[categories[\"title\"] == n_df1[n_df1[\"title\"] == row[\"title\"]][\"type\"]]\n",
    "\n",
    "    tmp = n_df1[n_df1[\"label\"] == row[\"title\"]][\"type\"].iloc[0].split(\"|\")\n",
    "    for t in tmp:\n",
    "        if t not in s_data:\n",
    "            s_data[t] = defaultdict(int)\n",
    "        \n",
    "        for word in row[\"def words\"].split(\"|\"):\n",
    "            s_data[t][word] += 1"
   ]
  },
  {
   "cell_type": "code",
   "execution_count": 13,
   "metadata": {},
   "outputs": [
    {
     "data": {
      "text/plain": "defaultdict(int,\n            {'lawyer': 9,\n             'statesman': 19,\n             'american': 234,\n             'Greek': 20,\n             'polymath': 9,\n             'philosopher': 46,\n             'writer': 35,\n             'retire': 11,\n             'tennis': 4,\n             'professional': 16,\n             'player': 11,\n             'world': 1,\n             'english': 49,\n             'german': 62,\n             'theoretical': 7,\n             'bear': 16,\n             'physicist': 30,\n             'king': 12,\n             'producer': 28,\n             'director': 32,\n             'regard': 2,\n             'film': 32,\n             'artist': 12,\n             'screenwriter': 14,\n             'japanese': 8,\n             'personality': 5,\n             'russian': 13,\n             'former': 18,\n             'mathematician': 39,\n             'Minister': 5,\n             'french': 44,\n             'journalist': 5,\n             'algerian': 1,\n             'grandmaster': 3,\n             'chess': 3,\n             'Champion': 1,\n             'alsatian': 1,\n             'Persian': 1,\n             'engineer': 25,\n             'civil': 4,\n             'pre-socratic': 6,\n             'scientist': 21,\n             'mexican': 3,\n             'leader': 11,\n             'Roman': 21,\n             'Archbishop': 4,\n             'seventh': 2,\n             'clergyman': 1,\n             'scholar': 7,\n             'Alain': 1,\n             'Lille': 1,\n             'de': 2,\n             'French': 1,\n             'margrave': 4,\n             'Duke': 1,\n             'first': 6,\n             'Sultan': 7,\n             'ānī': 1,\n             'āli': 3,\n             'Queen': 3,\n             'prominent': 1,\n             'member': 12,\n             'friar': 3,\n             'Catholic': 2,\n             'dominican': 2,\n             'bishop': 3,\n             'portuguese': 1,\n             'general': 10,\n             'son': 3,\n             'duke': 2,\n             'grand': 1,\n             'emperor': 24,\n             'King': 22,\n             'Byzantine': 7,\n             'soldier': 4,\n             '17th': 1,\n             'president': 2,\n             'identify': 1,\n             'know': 4,\n             '.': 2,\n             'socratic': 1,\n             'rhetorician': 1,\n             'historian': 10,\n             'active': 3,\n             'ancient': 6,\n             'language': 1,\n             'prose': 1,\n             'officer': 8,\n             'scottish': 9,\n             'privateer': 1,\n             'bodybuilder': 1,\n             'filmmaker': 18,\n             'actor': 42,\n             'economist': 10,\n             'singer': 43,\n             'host': 2,\n             'indian': 7,\n             'politician': 59,\n             'chemist': 8,\n             'italian': 22,\n             'pioneer': 8,\n             'physician': 11,\n             'biologist': 9,\n             'century': 6,\n             'author': 22,\n             'dutch': 8,\n             'seafarer': 1,\n             'explorer': 9,\n             'merchant': 2,\n             'designer': 6,\n             'architect': 13,\n             'finnish': 3,\n             'norwegian': 10,\n             'Professor': 2,\n             'sculptor': 6,\n             'painter': 24,\n             'printmaker': 3,\n             'Neoclassical': 1,\n             'famous': 1,\n             'songwriter': 29,\n             'political': 8,\n             'right': 1,\n             'afghan': 4,\n             'commander': 3,\n             'Eastern': 1,\n             'astronomer': 12,\n             'baroque': 2,\n             'composer': 18,\n             'psychiatrist': 3,\n             'neuropathologist': 2,\n             'colleague': 1,\n             'welsh': 1,\n             'swiss': 10,\n             'Holy': 2,\n             'Empress': 1,\n             'revolutionist': 1,\n             'wrestler': 1,\n             'reign': 1,\n             '32nd': 1,\n             'Emir': 1,\n             'swedish': 8,\n             'comedian': 9,\n             'nuclear': 1,\n             'burmese': 1,\n             'rabbi': 2,\n             'one': 9,\n             'austrian': 12,\n             'marshal': 1,\n             'field': 1,\n             'Benedictine': 3,\n             'monk': 4,\n             'israeli': 2,\n             'game': 1,\n             'manga': 4,\n             'emeritus': 2,\n             'computer': 14,\n             'christian': 5,\n             'danish': 8,\n             'notable': 1,\n             'co-composer': 1,\n             'musician': 13,\n             'magnate': 3,\n             'business': 2,\n             'activist': 16,\n             'actress': 30,\n             'Source': 1,\n             'free': 1,\n             'Software': 1,\n             'british': 21,\n             'irish': 6,\n             'saint': 1,\n             'theorist': 8,\n             'canadian': 13,\n             'photographer': 2,\n             'laureate': 3,\n             'logician': 2,\n             'baseball': 3,\n             'footballer': 7,\n             'Ottoman': 5,\n             'cricketer': 1,\n             'international': 1,\n             'trinidadian': 1,\n             'conservationist': 1,\n             'illustrator': 1,\n             'queen': 4,\n             'rock': 1,\n             'guitarist': 2,\n             'bly': 2,\n             'abbot': 1,\n             'psychologist': 6,\n             'behaviorist': 1,\n             'religious': 2,\n             'settler': 1,\n             'south': 4,\n             'african': 4,\n             'comic': 1,\n             'zoologist': 2,\n             'botanist': 2,\n             'playwright': 5,\n             'librettist': 1,\n             'critic': 4,\n             'father': 1,\n             'prussian': 1,\n             'pronounce': 1,\n             'biblical': 1,\n             'lead': 2,\n             'founder': 6,\n             'professor': 3,\n             'Frankish': 1,\n             'romanian': 2,\n             'inscribe': 3,\n             'woman': 1,\n             'surgeon': 1,\n             'cardiac': 1,\n             'sailor': 1,\n             'theologian': 3,\n             'cartoonist': 3,\n             'Patriarch': 1,\n             'impressionist': 1,\n             'mystic': 2,\n             'geologist': 4,\n             'Enlightenment': 1,\n             'inventor': 7,\n             'rapper': 2,\n             'football': 5,\n             'goalkeeper': 1,\n             'winner': 1,\n             'poet': 9,\n             'jazz': 4,\n             'pianist': 6,\n             'chinese': 4,\n             'television': 2,\n             'Argentine': 2,\n             'manager': 3,\n             'co': 1,\n             'creator': 2,\n             'Nicaraguan': 1,\n             'bohemian': 1,\n             'princess': 2,\n             'Soviet': 4,\n             'documentary': 1,\n             'confuse': 2,\n             'anthropologist': 3,\n             'linguist': 4,\n             'developer': 1,\n             'advocate': 1,\n             'book': 1,\n             'software': 3,\n             'editor': 1,\n             'citizen': 1,\n             'modernist': 1,\n             'Lutheran': 1,\n             'reformer': 4,\n             'humanist': 1,\n             'suffragist': 1,\n             'anarchist': 1,\n             'consort': 3,\n             'England': 1,\n             'system': 1,\n             'subject': 1,\n             'propose': 1,\n             'sage': 1,\n             'knight': 1,\n             'castilian': 1,\n             'warlord': 1,\n             'athel': 1,\n             'ethel': 1,\n             '124th': 1,\n             'diplomat': 6,\n             'April': 1,\n             'syriac': 1,\n             'hymnographer': 1,\n             'deacon': 1,\n             'Christian': 1,\n             'middle': 2,\n             'distance': 2,\n             'runner': 2,\n             'researcher': 1,\n             'vintner': 1,\n             'bandleader': 2,\n             'multi-instrumentalist': 1,\n             'team': 1,\n             'coach': 1,\n             'navarrese': 1,\n             'missionary': 1,\n             'social': 3,\n             'abolitionist': 2,\n             'mechanical': 2,\n             'biophysicist': 1,\n             'molecular': 2,\n             'neuroscientist': 1,\n             'spanish': 6,\n             'dictator': 2,\n             'organic': 1,\n             'trader': 1,\n             'sea': 1,\n             'captain': 1,\n             'American': 1,\n             'novelist': 10,\n             'essayist': 3,\n             'major': 1,\n             'symbolist': 1,\n             'Prime': 1,\n             '21st': 1,\n             'Humanist': 1,\n             'write': 2,\n             'broadcaster': 1,\n             'admiral': 3,\n             'furniture': 1,\n             'IMPERATOR': 1,\n             'entrepreneur': 1,\n             'storyteller': 1,\n             'model': 5,\n             'elector': 3,\n             'man': 1,\n             'legal': 2,\n             'force': 1,\n             'regent': 2,\n             'landowner': 1,\n             'bosnian': 1,\n             'serb': 1,\n             'glottologist': 1,\n             'obituary': 1,\n             'industrialist': 1,\n             'Reichsführer': 1,\n             'neurologist': 2,\n             'jewish': 2,\n             'endocrinologist': 1,\n             'geographer': 2,\n             'Egyptologist': 1,\n             'archaeologist': 2,\n             'businessman': 4,\n             'abbess': 1,\n             'microbiologist': 1,\n             'consultant': 1,\n             'ionian': 2,\n             'native': 1,\n             'carthaginian': 1,\n             'conquistador': 1,\n             'councillor': 1,\n             'lecturer': 2,\n             'publisher': 2,\n             'magazine': 1,\n             'communist': 3,\n             'belgian': 2,\n             'League': 1,\n             'Baseball': 1,\n             'sixth': 2,\n             'Cornish': 1,\n             'Army': 1,\n             'senior': 1,\n             'figure': 5,\n             'conductor': 1,\n             'virtuoso': 1,\n             'moroccan': 2,\n             'muslim': 1,\n             'berber': 1,\n             'Admiral': 1,\n             'Marshal': 1,\n             'lyricist': 2,\n             'Hong': 1,\n             'Kong': 1,\n             'determine': 1,\n             'believe': 1,\n             'blacksmith': 1,\n             'Nazi': 2,\n             'minister': 3,\n             'prime': 2,\n             '13th': 2,\n             'populist': 1,\n             'Hungarian': 1,\n             'Genevan': 1,\n             '11th': 1,\n             'philanthropist': 2,\n             'latin': 1,\n             'priest': 2,\n             'confessor': 1,\n             'dead': 1,\n             'Medal': 1,\n             'itinerant': 1,\n             'preacher': 2,\n             'Cross': 1,\n             'psychoanalyst': 1,\n             'organist': 1,\n             'name': 3,\n             'independence': 1,\n             'naval': 2,\n             'electrical': 2,\n             'Prince': 3,\n             'Renaissance': 1,\n             'lutenist': 1,\n             'ornithologist': 2,\n             'naturalist': 1,\n             'chronicler': 1,\n             'Empire': 1,\n             'holy': 1,\n             'female': 1,\n             'monarch': 1,\n             'independent': 2,\n             'environmentalist': 1,\n             'futurist': 1,\n             'Foreign': 1,\n             'swimmer': 1,\n             'competition': 1,\n             'racing': 2,\n             'driver': 2,\n             'australian': 6,\n             'revolutionary': 6,\n             'Yugoslav': 1,\n             'official': 3,\n             'Ghanaian': 1,\n             'basketball': 2,\n             'ethologist': 2,\n             'biochemist': 1,\n             'skater': 2,\n             'classicist': 1,\n             'spy': 1,\n             'SS': 1,\n             'functionary': 1,\n             'dancer': 1,\n             'programmer': 2,\n             'educator': 2,\n             'Marxist': 1,\n             'planner': 1,\n             'no.': 1,\n             'experimental': 1,\n             'fifth': 1,\n             'legendary': 3,\n             'gymnast': 1,\n             'Ukrainian': 1,\n             'artistic': 1,\n             'ophthalmologist': 1,\n             'polish': 2,\n             'promote': 1,\n             'exponent': 1,\n             'Gaelic': 1,\n             'form': 1,\n             'mediaeval': 1,\n             'only': 1,\n             'speculative': 1,\n             'fiction': 2,\n             'phenomenological': 1,\n             'sociologist': 3,\n             'newspaper': 1,\n             'presenter': 1,\n             'consul': 1,\n             'martial': 1,\n             'graphic': 1,\n             'Romanized': 1,\n             'turkish': 1,\n             'President': 1,\n             'third': 1,\n             'trumpeter': 1,\n             'owner': 3,\n             'hijacker': 1,\n             'egyptian': 1,\n             'duchess': 1,\n             'head': 1,\n             'Party': 1,\n             'give': 1,\n             'masculine': 1,\n             'lebanese': 1,\n             'last': 3,\n             'aviator': 1,\n             'wife': 1,\n             'person': 1,\n             'astronaut': 1,\n             'Conservative': 1,\n             'astrologer': 1,\n             'repute': 1,\n             'patron': 2,\n             'courtesan': 1,\n             'hurdler': 1,\n             'consider': 1,\n             'note': 2,\n             'conservative': 1,\n             'bey': 1,\n             'second': 2,\n             'ō': 1,\n             'daimy': 1,\n             'mineralogist': 1,\n             'mummy': 1,\n             'natural': 1,\n             'preserve': 1,\n             'shortstop': 1,\n             'athenian': 1,\n             'traveler': 1,\n             'idealist': 1,\n             'cover': 1,\n             'story': 1,\n             'moral': 1,\n             'Library': 1,\n             'Laurentian': 1,\n             'think': 1,\n             'senator': 1,\n             'military': 1,\n             'publish': 1,\n             'Florentine': 1,\n             'reporter': 1,\n             'pakistani': 1,\n             'cambodian': 1,\n             'supervisor': 1,\n             'Navy': 1,\n             'Gene': 1,\n             'Norman': 1,\n             'University': 1,\n             'stage': 1,\n             'evolutionary': 1,\n             'medieval': 2,\n             'rank': 1,\n             'ss': 1,\n             'Surrealist': 1,\n             'mogul': 1,\n             'media': 2,\n             'mathematical': 1,\n             'cleric': 1,\n             'iranian': 1,\n             'Laureate': 1,\n             'physical': 1,\n             'folklorist': 1,\n             'varangian': 1,\n             'chieftain': 1,\n             'tycoon': 1,\n             'sultan': 1,\n             'longest': 1,\n             'tenth': 1,\n             'Electress': 1,\n             'administrator': 1,\n             'paleontologist': 1,\n             'historical': 1,\n             'martyr': 1,\n             'virgin': 1,\n             'anti-apartheid': 1,\n             'proper': 1,\n             'art': 1,\n             'depict': 1,\n             'star': 1,\n             'Grand': 1,\n             'investor': 1,\n             'dish': 1,\n             'traditional': 1,\n             'nobleman': 1})"
     },
     "execution_count": 13,
     "metadata": {},
     "output_type": "execute_result"
    }
   ],
   "source": [
    "s_data[\"Q5\"] #human"
   ]
  },
  {
   "cell_type": "code",
   "execution_count": 14,
   "metadata": {},
   "outputs": [],
   "source": [
    "import json\n",
    "\n",
    "json.dump(s_data, open(\"./saved/teste_.json\", \"w\"))"
   ]
  },
  {
   "cell_type": "markdown",
   "execution_count": null,
   "metadata": {},
   "outputs": [],
   "source": [
    "# statistics"
   ]
  },
  {
   "cell_type": "code",
   "execution_count": 2,
   "metadata": {},
   "outputs": [],
   "source": [
    "import json\n",
    "\n",
    "s_data = json.load(open(\"./saved/word_count.json\", \"r\"))"
   ]
  },
  {
   "cell_type": "code",
   "execution_count": 3,
   "metadata": {},
   "outputs": [],
   "source": [
    "def lookup(word):\n",
    "    tmp_dict = {}\n",
    "    word = word.lower()\n",
    "    for k in s_data:\n",
    "        if word in s_data[k]:\n",
    "            tmp_dict[k] = s_data[k][word]\n",
    "    \n",
    "    return {k: v for k, v in sorted(tmp_dict.items(), key=lambda item: item[1], reverse=True)}"
   ]
  },
  {
   "cell_type": "code",
   "execution_count": 7,
   "metadata": {},
   "outputs": [
    {
     "data": {
      "text/plain": "{'Q19776628': 9,\n 'Q3841820': 9,\n 'Q4167410': 3,\n 'Q9398093': 2,\n 'Q482994': 1,\n 'Q208569': 1}"
     },
     "execution_count": 7,
     "metadata": {},
     "output_type": "execute_result"
    }
   ],
   "source": [
    "a = lookup(\"letter\")\n",
    "a"
   ]
  },
  {
   "cell_type": "markdown",
   "execution_count": null,
   "metadata": {},
   "outputs": [],
   "source": [
    "# misc"
   ]
  },
  {
   "cell_type": "code",
   "execution_count": null,
   "metadata": {},
   "outputs": [],
   "source": [
    "df[df.title.str.contains(\"(?i)scotland\")]"
   ]
  },
  {
   "cell_type": "code",
   "execution_count": null,
   "metadata": {},
   "outputs": [],
   "source": [
    "df[df.title.str.contains(\"(?i)^falmouth\")]"
   ]
  },
  {
   "cell_type": "code",
   "execution_count": null,
   "metadata": {},
   "outputs": [],
   "source": [
    "df.loc[6,][\"def words\"]"
   ]
  }
 ]
}