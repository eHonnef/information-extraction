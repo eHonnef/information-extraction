{
 "nbformat": 4,
 "nbformat_minor": 2,
 "metadata": {
  "language_info": {
   "name": "python",
   "codemirror_mode": {
    "name": "ipython",
    "version": 3
   },
   "version": "3.7.4-final"
  },
  "orig_nbformat": 2,
  "file_extension": ".py",
  "mimetype": "text/x-python",
  "name": "python",
  "npconvert_exporter": "python",
  "pygments_lexer": "ipython3",
  "version": 3,
  "kernelspec": {
   "name": "python37464bit16bfe68ae12841c89130860605802ebe",
   "display_name": "Python 3.7.4 64-bit"
  }
 },
 "cells": [
  {
   "cell_type": "code",
   "execution_count": 1,
   "metadata": {},
   "outputs": [],
   "source": [
    "import pandas as pd"
   ]
  },
  {
   "cell_type": "code",
   "execution_count": 2,
   "metadata": {},
   "outputs": [],
   "source": [
    "df = pd.read_csv(\"./saved/out_nlp_.csv\", delimiter=\"\\t\")"
   ]
  },
  {
   "cell_type": "code",
   "execution_count": 3,
   "metadata": {},
   "outputs": [],
   "source": [
    "df1 = pd.read_csv(\"./saved/n_out_nlp__wikidata.csv\", delimiter=\"\\t\")"
   ]
  },
  {
   "cell_type": "code",
   "execution_count": 4,
   "metadata": {},
   "outputs": [
    {
     "data": {
      "text/html": "<div>\n<style scoped>\n    .dataframe tbody tr th:only-of-type {\n        vertical-align: middle;\n    }\n\n    .dataframe tbody tr th {\n        vertical-align: top;\n    }\n\n    .dataframe thead th {\n        text-align: right;\n    }\n</style>\n<table border=\"1\" class=\"dataframe\">\n  <thead>\n    <tr style=\"text-align: right;\">\n      <th></th>\n      <th>title</th>\n      <th>type</th>\n      <th>def words</th>\n      <th>infobox_name</th>\n      <th>infobox</th>\n      <th>categories</th>\n      <th>wikilinks</th>\n    </tr>\n  </thead>\n  <tbody>\n    <tr>\n      <th>14962</th>\n      <td>The Hobbit</td>\n      <td>article</td>\n      <td>fantasy|novel</td>\n      <td>Infobox book</td>\n      <td>name:The Hobbit, or  There and Back Again|imag...</td>\n      <td>The Hobbit|1937 British novels|1937 children's...</td>\n      <td>J. R. R. Tolkien|High fantasy|Juvenile fantasy...</td>\n    </tr>\n    <tr>\n      <th>14963</th>\n      <td>Tax Freedom Day</td>\n      <td>article</td>\n      <td>-</td>\n      <td>-</td>\n      <td>-</td>\n      <td>Tax|Unofficial observances|Libertarian terms</td>\n      <td>nation|Madsen Pirie|Biteback Publishing|Tax Fo...</td>\n    </tr>\n    <tr>\n      <th>14964</th>\n      <td>Tax</td>\n      <td>article</td>\n      <td>compulsory|type|charge|financial</td>\n      <td>-</td>\n      <td>-</td>\n      <td>Taxation by country|3rd-millennium BC establis...</td>\n      <td>Latin|wikt:en:taxo#Latin|Legal person|Britanni...</td>\n    </tr>\n    <tr>\n      <th>14965</th>\n      <td>Transhumanism</td>\n      <td>article</td>\n      <td>philosophical|movement|international</td>\n      <td>-</td>\n      <td>-</td>\n      <td>Transhumanism|1990 introductions|Artificial in...</td>\n      <td>Transhumance|school of thought|human condition...</td>\n    </tr>\n    <tr>\n      <th>14966</th>\n      <td>TARDIS</td>\n      <td>article</td>\n      <td>machine|time|fictional|spacecraft</td>\n      <td>Infobox fictional artifact</td>\n      <td>name:TARDIS|image:Tardis BBC Television Center...</td>\n      <td>Fictional elements introduced in 1963|Bioships...</td>\n      <td>Doctor Who|BBC|An Unearthly Child|Sydney Newma...</td>\n    </tr>\n  </tbody>\n</table>\n</div>",
      "text/plain": "                 title     type                             def words  \\\n14962       The Hobbit  article                         fantasy|novel   \n14963  Tax Freedom Day  article                                     -   \n14964              Tax  article      compulsory|type|charge|financial   \n14965    Transhumanism  article  philosophical|movement|international   \n14966           TARDIS  article     machine|time|fictional|spacecraft   \n\n                     infobox_name  \\\n14962                Infobox book   \n14963                           -   \n14964                           -   \n14965                           -   \n14966  Infobox fictional artifact   \n\n                                                 infobox  \\\n14962  name:The Hobbit, or  There and Back Again|imag...   \n14963                                                  -   \n14964                                                  -   \n14965                                                  -   \n14966  name:TARDIS|image:Tardis BBC Television Center...   \n\n                                              categories  \\\n14962  The Hobbit|1937 British novels|1937 children's...   \n14963       Tax|Unofficial observances|Libertarian terms   \n14964  Taxation by country|3rd-millennium BC establis...   \n14965  Transhumanism|1990 introductions|Artificial in...   \n14966  Fictional elements introduced in 1963|Bioships...   \n\n                                               wikilinks  \n14962  J. R. R. Tolkien|High fantasy|Juvenile fantasy...  \n14963  nation|Madsen Pirie|Biteback Publishing|Tax Fo...  \n14964  Latin|wikt:en:taxo#Latin|Legal person|Britanni...  \n14965  Transhumance|school of thought|human condition...  \n14966  Doctor Who|BBC|An Unearthly Child|Sydney Newma...  "
     },
     "execution_count": 4,
     "metadata": {},
     "output_type": "execute_result"
    }
   ],
   "source": [
    "df.tail(5)"
   ]
  },
  {
   "cell_type": "code",
   "execution_count": 5,
   "metadata": {},
   "outputs": [
    {
     "data": {
      "text/html": "<div>\n<style scoped>\n    .dataframe tbody tr th:only-of-type {\n        vertical-align: middle;\n    }\n\n    .dataframe tbody tr th {\n        vertical-align: top;\n    }\n\n    .dataframe thead th {\n        text-align: right;\n    }\n</style>\n<table border=\"1\" class=\"dataframe\">\n  <thead>\n    <tr style=\"text-align: right;\">\n      <th></th>\n      <th>title</th>\n      <th>label</th>\n      <th>type</th>\n    </tr>\n  </thead>\n  <tbody>\n    <tr>\n      <th>0</th>\n      <td>Q15</td>\n      <td>Africa</td>\n      <td>Q5107</td>\n    </tr>\n    <tr>\n      <th>1</th>\n      <td>Q17</td>\n      <td>Japan</td>\n      <td>Q3624078|Q112099|Q6256</td>\n    </tr>\n    <tr>\n      <th>2</th>\n      <td>Q18</td>\n      <td>South America</td>\n      <td>Q5107|Q855697</td>\n    </tr>\n    <tr>\n      <th>3</th>\n      <td>Q20</td>\n      <td>Norway</td>\n      <td>Q3624078|Q6256|Q41614</td>\n    </tr>\n    <tr>\n      <th>4</th>\n      <td>Q21</td>\n      <td>England</td>\n      <td>Q3336843|Q518261|Q1151616|Q6266</td>\n    </tr>\n  </tbody>\n</table>\n</div>",
      "text/plain": "  title          label                             type\n0   Q15         Africa                            Q5107\n1   Q17          Japan           Q3624078|Q112099|Q6256\n2   Q18  South America                    Q5107|Q855697\n3   Q20         Norway            Q3624078|Q6256|Q41614\n4   Q21        England  Q3336843|Q518261|Q1151616|Q6266"
     },
     "execution_count": 5,
     "metadata": {},
     "output_type": "execute_result"
    }
   ],
   "source": [
    "df1.head(5)"
   ]
  },
  {
   "cell_type": "markdown",
   "execution_count": null,
   "metadata": {},
   "outputs": [],
   "source": [
    "### Filtering the dataframe"
   ]
  },
  {
   "cell_type": "code",
   "execution_count": 6,
   "metadata": {},
   "outputs": [],
   "source": [
    "df = df[df[\"def words\"] != \"-\"]"
   ]
  },
  {
   "cell_type": "code",
   "execution_count": 7,
   "metadata": {},
   "outputs": [
    {
     "data": {
      "text/html": "<div>\n<style scoped>\n    .dataframe tbody tr th:only-of-type {\n        vertical-align: middle;\n    }\n\n    .dataframe tbody tr th {\n        vertical-align: top;\n    }\n\n    .dataframe thead th {\n        text-align: right;\n    }\n</style>\n<table border=\"1\" class=\"dataframe\">\n  <thead>\n    <tr style=\"text-align: right;\">\n      <th></th>\n      <th>title</th>\n      <th>label</th>\n      <th>type</th>\n    </tr>\n  </thead>\n  <tbody>\n    <tr>\n      <th>1</th>\n      <td>Q17</td>\n      <td>Japan</td>\n      <td>Q3624078|Q112099|Q6256</td>\n    </tr>\n    <tr>\n      <th>2</th>\n      <td>Q18</td>\n      <td>South America</td>\n      <td>Q5107|Q855697</td>\n    </tr>\n  </tbody>\n</table>\n</div>",
      "text/plain": "  title          label                    type\n1   Q17          Japan  Q3624078|Q112099|Q6256\n2   Q18  South America           Q5107|Q855697"
     },
     "execution_count": 7,
     "metadata": {},
     "output_type": "execute_result"
    }
   ],
   "source": [
    "n_df1 = df1[df1[\"label\"].isin(df[\"title\"])]\n",
    "n_df1.head(2)"
   ]
  },
  {
   "cell_type": "code",
   "execution_count": 8,
   "metadata": {},
   "outputs": [
    {
     "data": {
      "text/html": "<div>\n<style scoped>\n    .dataframe tbody tr th:only-of-type {\n        vertical-align: middle;\n    }\n\n    .dataframe tbody tr th {\n        vertical-align: top;\n    }\n\n    .dataframe thead th {\n        text-align: right;\n    }\n</style>\n<table border=\"1\" class=\"dataframe\">\n  <thead>\n    <tr style=\"text-align: right;\">\n      <th></th>\n      <th>title</th>\n      <th>type</th>\n      <th>def words</th>\n      <th>infobox_name</th>\n      <th>infobox</th>\n      <th>categories</th>\n      <th>wikilinks</th>\n    </tr>\n  </thead>\n  <tbody>\n    <tr>\n      <th>3</th>\n      <td>A</td>\n      <td>article</td>\n      <td>first|letter</td>\n      <td>-</td>\n      <td>-</td>\n      <td>ISO basic Latin letters|Vowel letters</td>\n      <td>A#Related characters|Latin script|Alphabet|Log...</td>\n    </tr>\n    <tr>\n      <th>4</th>\n      <td>Alabama</td>\n      <td>article</td>\n      <td>state</td>\n      <td>Infobox U.S. state</td>\n      <td>official_name:State of Alabama|name:Alabama|im...</td>\n      <td>Alabama|1819 establishments in the United Stat...</td>\n      <td>Coat of arms of Alabama|Northern flicker|Dixie...</td>\n    </tr>\n  </tbody>\n</table>\n</div>",
      "text/plain": "     title     type     def words        infobox_name  \\\n3        A  article  first|letter                   -   \n4  Alabama  article         state  Infobox U.S. state   \n\n                                             infobox  \\\n3                                                  -   \n4  official_name:State of Alabama|name:Alabama|im...   \n\n                                          categories  \\\n3              ISO basic Latin letters|Vowel letters   \n4  Alabama|1819 establishments in the United Stat...   \n\n                                           wikilinks  \n3  A#Related characters|Latin script|Alphabet|Log...  \n4  Coat of arms of Alabama|Northern flicker|Dixie...  "
     },
     "execution_count": 8,
     "metadata": {},
     "output_type": "execute_result"
    }
   ],
   "source": [
    "n_df = df[df.title.isin(df1[\"label\"])]\n",
    "n_df.head(2)"
   ]
  },
  {
   "cell_type": "markdown",
   "execution_count": null,
   "metadata": {},
   "outputs": [],
   "source": [
    "### Getting the categories (or types, eg. human, etc)"
   ]
  },
  {
   "cell_type": "code",
   "execution_count": 9,
   "metadata": {},
   "outputs": [],
   "source": [
    "cat = set()\n",
    "for i in df1[\"type\"]:\n",
    "    cat.update(str(i).split(\"|\"))"
   ]
  },
  {
   "cell_type": "code",
   "execution_count": 10,
   "metadata": {},
   "outputs": [],
   "source": [
    "categories = df1[df1.title.isin(cat)]"
   ]
  },
  {
   "cell_type": "code",
   "execution_count": 11,
   "metadata": {},
   "outputs": [
    {
     "data": {
      "text/html": "<div>\n<style scoped>\n    .dataframe tbody tr th:only-of-type {\n        vertical-align: middle;\n    }\n\n    .dataframe tbody tr th {\n        vertical-align: top;\n    }\n\n    .dataframe thead th {\n        text-align: right;\n    }\n</style>\n<table border=\"1\" class=\"dataframe\">\n  <thead>\n    <tr style=\"text-align: right;\">\n      <th></th>\n      <th>title</th>\n      <th>label</th>\n      <th>type</th>\n    </tr>\n  </thead>\n  <tbody>\n    <tr>\n      <th>16</th>\n      <td>Q3</td>\n      <td>life</td>\n      <td>Q937228</td>\n    </tr>\n    <tr>\n      <th>18</th>\n      <td>Q5</td>\n      <td>human</td>\n      <td>Q55983715</td>\n    </tr>\n    <tr>\n      <th>42</th>\n      <td>Q44</td>\n      <td>beer</td>\n      <td>Q154|Q79529</td>\n    </tr>\n    <tr>\n      <th>54</th>\n      <td>Q58</td>\n      <td>penis</td>\n      <td>Q4620674</td>\n    </tr>\n    <tr>\n      <th>63</th>\n      <td>Q68</td>\n      <td>computer</td>\n      <td>Q2858615|Q241317</td>\n    </tr>\n    <tr>\n      <th>...</th>\n      <td>...</td>\n      <td>...</td>\n      <td>...</td>\n    </tr>\n    <tr>\n      <th>217821</th>\n      <td>Q241212</td>\n      <td>pillory</td>\n      <td>Q933870|Q552345</td>\n    </tr>\n    <tr>\n      <th>217883</th>\n      <td>Q241284</td>\n      <td>geosphere</td>\n      <td>Q219858|Q47495022</td>\n    </tr>\n    <tr>\n      <th>217913</th>\n      <td>Q241317</td>\n      <td>computing platform</td>\n      <td>Q66747126</td>\n    </tr>\n    <tr>\n      <th>218188</th>\n      <td>Q241625</td>\n      <td>wish</td>\n      <td>Q775842</td>\n    </tr>\n    <tr>\n      <th>218417</th>\n      <td>Q241871</td>\n      <td>tactile alphabet</td>\n      <td>Q1191702|Q9779</td>\n    </tr>\n  </tbody>\n</table>\n<p>3263 rows × 3 columns</p>\n</div>",
      "text/plain": "          title               label               type\n16           Q3                life            Q937228\n18           Q5               human          Q55983715\n42          Q44                beer        Q154|Q79529\n54          Q58               penis           Q4620674\n63          Q68            computer   Q2858615|Q241317\n...         ...                 ...                ...\n217821  Q241212             pillory    Q933870|Q552345\n217883  Q241284           geosphere  Q219858|Q47495022\n217913  Q241317  computing platform          Q66747126\n218188  Q241625                wish            Q775842\n218417  Q241871    tactile alphabet     Q1191702|Q9779\n\n[3263 rows x 3 columns]"
     },
     "execution_count": 11,
     "metadata": {},
     "output_type": "execute_result"
    }
   ],
   "source": [
    "categories"
   ]
  },
  {
   "cell_type": "code",
   "execution_count": 12,
   "metadata": {},
   "outputs": [
    {
     "data": {
      "text/html": "<div>\n<style scoped>\n    .dataframe tbody tr th:only-of-type {\n        vertical-align: middle;\n    }\n\n    .dataframe tbody tr th {\n        vertical-align: top;\n    }\n\n    .dataframe thead th {\n        text-align: right;\n    }\n</style>\n<table border=\"1\" class=\"dataframe\">\n  <thead>\n    <tr style=\"text-align: right;\">\n      <th></th>\n      <th>title</th>\n      <th>label</th>\n      <th>type</th>\n    </tr>\n  </thead>\n  <tbody>\n    <tr>\n      <th>84467</th>\n      <td>Q89934</td>\n      <td>community of Belgium</td>\n      <td>Q838185|Q10864048|Q1048835|Q10553309</td>\n    </tr>\n  </tbody>\n</table>\n</div>",
      "text/plain": "        title                 label                                  type\n84467  Q89934  community of Belgium  Q838185|Q10864048|Q1048835|Q10553309"
     },
     "execution_count": 12,
     "metadata": {},
     "output_type": "execute_result"
    }
   ],
   "source": [
    "df1[df1[\"title\"] == \"Q89934\"]"
   ]
  },
  {
   "cell_type": "markdown",
   "execution_count": null,
   "metadata": {},
   "outputs": [],
   "source": [
    "# statistics"
   ]
  },
  {
   "cell_type": "code",
   "execution_count": 13,
   "metadata": {},
   "outputs": [],
   "source": [
    "ia = 0\n",
    "s_data = {}\n",
    "for i, row in n_df.iterrows():\n",
    "    # tmp = categories[categories[\"title\"] == n_df1[n_df1[\"title\"] == row[\"title\"]][\"type\"]]\n",
    "\n",
    "    tmp = n_df1[n_df1[\"label\"] == row[\"title\"]][\"type\"].iloc[0].split(\"|\")\n",
    "    for t in tmp:\n",
    "        if t not in s_data.keys():\n",
    "            s_data[t] = set()\n",
    "        s_data[t].update(row[\"def words\"].split(\"|\"))"
   ]
  },
  {
   "cell_type": "code",
   "execution_count": 14,
   "metadata": {},
   "outputs": [],
   "source": [
    "# converting the sets to list to be able to save to json\n",
    "for s in s_data:\n",
    "    s_data[s] = list(s_data[s])"
   ]
  },
  {
   "cell_type": "code",
   "execution_count": 15,
   "metadata": {},
   "outputs": [],
   "source": [
    "import json\n",
    "\n",
    "json.dump(s_data, open(\"./saved/teste.json\", \"w\"))"
   ]
  },
  {
   "cell_type": "markdown",
   "execution_count": null,
   "metadata": {},
   "outputs": [],
   "source": [
    "# misc"
   ]
  },
  {
   "cell_type": "code",
   "execution_count": null,
   "metadata": {},
   "outputs": [],
   "source": [
    "df[df.title.str.contains(\"(?i)scotland\")]"
   ]
  },
  {
   "cell_type": "code",
   "execution_count": null,
   "metadata": {},
   "outputs": [],
   "source": [
    "df[df.title.str.contains(\"(?i)^falmouth\")]"
   ]
  },
  {
   "cell_type": "code",
   "execution_count": null,
   "metadata": {},
   "outputs": [],
   "source": [
    "df.loc[6,][\"def words\"]"
   ]
  }
 ]
}