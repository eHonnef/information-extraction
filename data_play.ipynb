{
 "nbformat": 4,
 "nbformat_minor": 2,
 "metadata": {
  "language_info": {
   "name": "python",
   "codemirror_mode": {
    "name": "ipython",
    "version": 3
   },
   "version": "3.7.4"
  },
  "orig_nbformat": 2,
  "file_extension": ".py",
  "mimetype": "text/x-python",
  "name": "python",
  "npconvert_exporter": "python",
  "pygments_lexer": "ipython3",
  "version": 3
 },
 "cells": [
  {
   "cell_type": "code",
   "execution_count": 1,
   "metadata": {},
   "outputs": [],
   "source": [
    "import pandas as pd"
   ]
  },
  {
   "cell_type": "code",
   "execution_count": 2,
   "metadata": {},
   "outputs": [],
   "source": [
    "df = pd.read_csv(\"./saved/out4.csv\", delimiter=\"\\t\")"
   ]
  },
  {
   "cell_type": "code",
   "execution_count": 3,
   "metadata": {},
   "outputs": [
    {
     "data": {
      "text/html": "<div>\n<style scoped>\n    .dataframe tbody tr th:only-of-type {\n        vertical-align: middle;\n    }\n\n    .dataframe tbody tr th {\n        vertical-align: top;\n    }\n\n    .dataframe thead th {\n        text-align: right;\n    }\n</style>\n<table border=\"1\" class=\"dataframe\">\n  <thead>\n    <tr style=\"text-align: right;\">\n      <th></th>\n      <th>title</th>\n      <th>type</th>\n      <th>def words</th>\n      <th>infobox_name</th>\n      <th>infobox</th>\n      <th>categories</th>\n      <th>wikilinks</th>\n    </tr>\n  </thead>\n  <tbody>\n    <tr>\n      <th>0</th>\n      <td>Autism</td>\n      <td>article</td>\n      <td>-</td>\n      <td>-</td>\n      <td>-</td>\n      <td>Autism|Articles containing video clips|Communi...</td>\n      <td>Psychiatry|Interpersonal relationship|communic...</td>\n    </tr>\n    <tr>\n      <th>1</th>\n      <td>Albedo</td>\n      <td>article</td>\n      <td>-</td>\n      <td>-</td>\n      <td>-</td>\n      <td>Land surface effects on climate|Climate feedba...</td>\n      <td>File:Albedo-e hg.svg|diffuse reflection|sunlig...</td>\n    </tr>\n    <tr>\n      <th>2</th>\n      <td>An American in Paris</td>\n      <td>article</td>\n      <td>-</td>\n      <td>-</td>\n      <td>-</td>\n      <td>1928 compositions|Compositions by George Gersh...</td>\n      <td>George Gershwin|Walter Damrosch|Rhapsody in Bl...</td>\n    </tr>\n    <tr>\n      <th>3</th>\n      <td>Actrius</td>\n      <td>article</td>\n      <td>-</td>\n      <td>Infobox film</td>\n      <td>name:Actresses|image:Actrius film poster.jpg|a...</td>\n      <td>1997 films|1990s drama films|Spanish films|Cat...</td>\n      <td>Catalan language|Ventura Pons|Josep Maria Bene...</td>\n    </tr>\n    <tr>\n      <th>4</th>\n      <td>International Atomic Time</td>\n      <td>article</td>\n      <td>-</td>\n      <td>-</td>\n      <td>-</td>\n      <td>Time scales</td>\n      <td>coordinate time|time standard|proper time|Eart...</td>\n    </tr>\n    <tr>\n      <th>...</th>\n      <td>...</td>\n      <td>...</td>\n      <td>...</td>\n      <td>...</td>\n      <td>...</td>\n      <td>...</td>\n      <td>...</td>\n    </tr>\n    <tr>\n      <th>6388</th>\n      <td>Tommy Lee</td>\n      <td>article</td>\n      <td>-</td>\n      <td>Infobox person</td>\n      <td>name:Tommy Lee|image:Tommy_Lee_2012.jpg|captio...</td>\n      <td>1962 births|Activists from California|American...</td>\n      <td>Athens, Greece|Heather Locklear|Pamela Anderso...</td>\n    </tr>\n    <tr>\n      <th>6389</th>\n      <td>The Resistible Rise of Arturo Ui</td>\n      <td>article</td>\n      <td>-</td>\n      <td>Infobox play</td>\n      <td>name:The Resistible Rise of Arturo Ui|image:|i...</td>\n      <td>Anti-fascist plays|Plays by Bertolt Brecht|Pla...</td>\n      <td>Bertolt Brecht|Stuttgart|John Willett|Ralph Ma...</td>\n    </tr>\n    <tr>\n      <th>6390</th>\n      <td>The Threepenny Opera</td>\n      <td>article</td>\n      <td>-</td>\n      <td>Infobox musical</td>\n      <td>name:The Threepenny Opera|subtitle:|image:Drei...</td>\n      <td>1928 musicals|Plays by Bertolt Brecht|Broadway...</td>\n      <td>Kurt Weill|Bertolt Brecht|François Villon|#K. ...</td>\n    </tr>\n    <tr>\n      <th>6391</th>\n      <td>Tristan Bernard</td>\n      <td>article</td>\n      <td>-</td>\n      <td>-</td>\n      <td>-</td>\n      <td>1866 births|1947 deaths|People from Besançon|1...</td>\n      <td>File:Tristan Bernard by Toulouse-Lautrec.jpg|T...</td>\n    </tr>\n    <tr>\n      <th>6392</th>\n      <td>Transhumanism</td>\n      <td>article</td>\n      <td>-</td>\n      <td>-</td>\n      <td>-</td>\n      <td>Transhumanism|1990 introductions|Artificial in...</td>\n      <td>Transhumance|school of thought|human condition...</td>\n    </tr>\n  </tbody>\n</table>\n<p>6393 rows × 7 columns</p>\n</div>",
      "text/plain": "                                 title     type def words     infobox_name  \\\n0                               Autism  article         -                -   \n1                               Albedo  article         -                -   \n2                 An American in Paris  article         -                -   \n3                              Actrius  article         -     Infobox film   \n4            International Atomic Time  article         -                -   \n...                                ...      ...       ...              ...   \n6388                         Tommy Lee  article         -   Infobox person   \n6389  The Resistible Rise of Arturo Ui  article         -     Infobox play   \n6390              The Threepenny Opera  article         -  Infobox musical   \n6391                   Tristan Bernard  article         -                -   \n6392                     Transhumanism  article         -                -   \n\n                                                infobox  \\\n0                                                     -   \n1                                                     -   \n2                                                     -   \n3     name:Actresses|image:Actrius film poster.jpg|a...   \n4                                                     -   \n...                                                 ...   \n6388  name:Tommy Lee|image:Tommy_Lee_2012.jpg|captio...   \n6389  name:The Resistible Rise of Arturo Ui|image:|i...   \n6390  name:The Threepenny Opera|subtitle:|image:Drei...   \n6391                                                  -   \n6392                                                  -   \n\n                                             categories  \\\n0     Autism|Articles containing video clips|Communi...   \n1     Land surface effects on climate|Climate feedba...   \n2     1928 compositions|Compositions by George Gersh...   \n3     1997 films|1990s drama films|Spanish films|Cat...   \n4                                           Time scales   \n...                                                 ...   \n6388  1962 births|Activists from California|American...   \n6389  Anti-fascist plays|Plays by Bertolt Brecht|Pla...   \n6390  1928 musicals|Plays by Bertolt Brecht|Broadway...   \n6391  1866 births|1947 deaths|People from Besançon|1...   \n6392  Transhumanism|1990 introductions|Artificial in...   \n\n                                              wikilinks  \n0     Psychiatry|Interpersonal relationship|communic...  \n1     File:Albedo-e hg.svg|diffuse reflection|sunlig...  \n2     George Gershwin|Walter Damrosch|Rhapsody in Bl...  \n3     Catalan language|Ventura Pons|Josep Maria Bene...  \n4     coordinate time|time standard|proper time|Eart...  \n...                                                 ...  \n6388  Athens, Greece|Heather Locklear|Pamela Anderso...  \n6389  Bertolt Brecht|Stuttgart|John Willett|Ralph Ma...  \n6390  Kurt Weill|Bertolt Brecht|François Villon|#K. ...  \n6391  File:Tristan Bernard by Toulouse-Lautrec.jpg|T...  \n6392  Transhumance|school of thought|human condition...  \n\n[6393 rows x 7 columns]"
     },
     "execution_count": 3,
     "metadata": {},
     "output_type": "execute_result"
    }
   ],
   "source": [
    "df"
   ]
  },
  {
   "cell_type": "code",
   "execution_count": 3,
   "metadata": {},
   "outputs": [
    {
     "data": {
      "text/html": "<div>\n<style scoped>\n    .dataframe tbody tr th:only-of-type {\n        vertical-align: middle;\n    }\n\n    .dataframe tbody tr th {\n        vertical-align: top;\n    }\n\n    .dataframe thead th {\n        text-align: right;\n    }\n</style>\n<table border=\"1\" class=\"dataframe\">\n  <thead>\n    <tr style=\"text-align: right;\">\n      <th></th>\n      <th>title</th>\n      <th>type</th>\n      <th>def words</th>\n      <th>infobox_name</th>\n      <th>infobox</th>\n      <th>categories</th>\n      <th>wikilinks</th>\n    </tr>\n  </thead>\n  <tbody>\n    <tr>\n      <th>19</th>\n      <td>List of Atlas Shrugged characters</td>\n      <td>article</td>\n      <td>-</td>\n      <td>-</td>\n      <td>-</td>\n      <td>Atlas Shrugged characters|Fictional socialites...</td>\n      <td>Ayn Rand|Atlas Shrugged|CliffsNotes|SparkNotes...</td>\n    </tr>\n    <tr>\n      <th>88</th>\n      <td>List of anthropologists</td>\n      <td>article</td>\n      <td>-</td>\n      <td>-</td>\n      <td>-</td>\n      <td>Lists of social scientists|Anthropologists</td>\n      <td>John Adair (anthropologist)|B. R. Ambedkar|Giu...</td>\n    </tr>\n    <tr>\n      <th>338</th>\n      <td>List of governors of Alabama</td>\n      <td>article</td>\n      <td>-</td>\n      <td>Infobox official post</td>\n      <td>post:Governor|body:Alabama|insignia:Seal of th...</td>\n      <td>Lists of state governors of the United States|...</td>\n      <td>Kay Ivey|Governor|The Honourable#United States...</td>\n    </tr>\n    <tr>\n      <th>842</th>\n      <td>List of animated television series</td>\n      <td>article</td>\n      <td>-</td>\n      <td>-</td>\n      <td>-</td>\n      <td>Animated television series|Lists of television...</td>\n      <td>Animated series#Television|television show|ani...</td>\n    </tr>\n    <tr>\n      <th>845</th>\n      <td>List of artificial intelligence projects</td>\n      <td>article</td>\n      <td>-</td>\n      <td>-</td>\n      <td>-</td>\n      <td>Artificial intelligence|Computing-related list...</td>\n      <td>artificial intelligence|Blue Brain Project|Rev...</td>\n    </tr>\n    <tr>\n      <th>...</th>\n      <td>...</td>\n      <td>...</td>\n      <td>...</td>\n      <td>...</td>\n      <td>...</td>\n      <td>...</td>\n      <td>...</td>\n    </tr>\n    <tr>\n      <th>14811</th>\n      <td>List of tourist attractions in Sardinia</td>\n      <td>article</td>\n      <td>-</td>\n      <td>-</td>\n      <td>-</td>\n      <td>Tourist attractions in Sardinia|Tourism in Ita...</td>\n      <td>tourist destination|Sardinia|Olbia|Cagliari|Sa...</td>\n    </tr>\n    <tr>\n      <th>14812</th>\n      <td>List of people from Sardinia</td>\n      <td>article</td>\n      <td>-</td>\n      <td>-</td>\n      <td>-</td>\n      <td>Sardinia|People from Sardinia|Sardinia-related...</td>\n      <td>Sardinia|Mediterranean Sea|Sardinian people|Li...</td>\n    </tr>\n    <tr>\n      <th>14817</th>\n      <td>List of maritime explorers</td>\n      <td>article</td>\n      <td>-</td>\n      <td>-</td>\n      <td>-</td>\n      <td>Lists of mariners|Lists of explorers|Ocean exp...</td>\n      <td>Arctic Ocean|terra incognita|James Cook|Terra ...</td>\n    </tr>\n    <tr>\n      <th>14860</th>\n      <td>List of rulers of Saxony</td>\n      <td>article</td>\n      <td>-</td>\n      <td>-</td>\n      <td>-</td>\n      <td>Saxon monarchs|Lists of European rulers|Lists ...</td>\n      <td>Coat of arms of Saxony|Hadugato|Frederick Augu...</td>\n    </tr>\n    <tr>\n      <th>14876</th>\n      <td>List of therapies</td>\n      <td>article</td>\n      <td>-</td>\n      <td>-</td>\n      <td>-</td>\n      <td>Therapy|Medical lists|Medical treatments|Alter...</td>\n      <td>therapy|traditional medicine|alternative medic...</td>\n    </tr>\n  </tbody>\n</table>\n<p>144 rows × 7 columns</p>\n</div>",
      "text/plain": "                                          title     type def words  \\\n19            List of Atlas Shrugged characters  article         -   \n88                      List of anthropologists  article         -   \n338                List of governors of Alabama  article         -   \n842          List of animated television series  article         -   \n845    List of artificial intelligence projects  article         -   \n...                                         ...      ...       ...   \n14811   List of tourist attractions in Sardinia  article         -   \n14812              List of people from Sardinia  article         -   \n14817                List of maritime explorers  article         -   \n14860                  List of rulers of Saxony  article         -   \n14876                         List of therapies  article         -   \n\n                infobox_name  \\\n19                         -   \n88                         -   \n338    Infobox official post   \n842                        -   \n845                        -   \n...                      ...   \n14811                      -   \n14812                      -   \n14817                      -   \n14860                      -   \n14876                      -   \n\n                                                 infobox  \\\n19                                                     -   \n88                                                     -   \n338    post:Governor|body:Alabama|insignia:Seal of th...   \n842                                                    -   \n845                                                    -   \n...                                                  ...   \n14811                                                  -   \n14812                                                  -   \n14817                                                  -   \n14860                                                  -   \n14876                                                  -   \n\n                                              categories  \\\n19     Atlas Shrugged characters|Fictional socialites...   \n88            Lists of social scientists|Anthropologists   \n338    Lists of state governors of the United States|...   \n842    Animated television series|Lists of television...   \n845    Artificial intelligence|Computing-related list...   \n...                                                  ...   \n14811  Tourist attractions in Sardinia|Tourism in Ita...   \n14812  Sardinia|People from Sardinia|Sardinia-related...   \n14817  Lists of mariners|Lists of explorers|Ocean exp...   \n14860  Saxon monarchs|Lists of European rulers|Lists ...   \n14876  Therapy|Medical lists|Medical treatments|Alter...   \n\n                                               wikilinks  \n19     Ayn Rand|Atlas Shrugged|CliffsNotes|SparkNotes...  \n88     John Adair (anthropologist)|B. R. Ambedkar|Giu...  \n338    Kay Ivey|Governor|The Honourable#United States...  \n842    Animated series#Television|television show|ani...  \n845    artificial intelligence|Blue Brain Project|Rev...  \n...                                                  ...  \n14811  tourist destination|Sardinia|Olbia|Cagliari|Sa...  \n14812  Sardinia|Mediterranean Sea|Sardinian people|Li...  \n14817  Arctic Ocean|terra incognita|James Cook|Terra ...  \n14860  Coat of arms of Saxony|Hadugato|Frederick Augu...  \n14876  therapy|traditional medicine|alternative medic...  \n\n[144 rows x 7 columns]"
     },
     "execution_count": 3,
     "metadata": {},
     "output_type": "execute_result"
    }
   ],
   "source": [
    "df[df.title.str.contains(\"(?i)^list of\")]"
   ]
  },
  {
   "cell_type": "code",
   "execution_count": 17,
   "metadata": {},
   "outputs": [
    {
     "data": {
      "text/plain": "'List of artificial intelligence projects'"
     },
     "execution_count": 17,
     "metadata": {},
     "output_type": "execute_result"
    }
   ],
   "source": [
    "df.loc[845,][\"title\"]"
   ]
  }
 ]
}