{
 "nbformat": 4,
 "nbformat_minor": 2,
 "metadata": {
  "language_info": {
   "name": "python",
   "codemirror_mode": {
    "name": "ipython",
    "version": 3
   },
   "version": "3.7.4"
  },
  "orig_nbformat": 2,
  "file_extension": ".py",
  "mimetype": "text/x-python",
  "name": "python",
  "npconvert_exporter": "python",
  "pygments_lexer": "ipython3",
  "version": 3
 },
 "cells": [
  {
   "source": [
    "import pandas as pd"
   ],
   "cell_type": "code",
   "outputs": [],
   "metadata": {},
   "execution_count": 1
  },
  {
   "source": [
    "df = pd.read_csv(\"./saved/results.csv\", delimiter=\"\\t\")"
   ],
   "cell_type": "code",
   "outputs": [],
   "metadata": {},
   "execution_count": 2
  },
  {
   "cell_type": "code",
   "execution_count": 7,
   "metadata": {},
   "outputs": [
    {
     "data": {
      "text/html": "<div>\n<style scoped>\n    .dataframe tbody tr th:only-of-type {\n        vertical-align: middle;\n    }\n\n    .dataframe tbody tr th {\n        vertical-align: top;\n    }\n\n    .dataframe thead th {\n        text-align: right;\n    }\n</style>\n<table border=\"1\" class=\"dataframe\">\n  <thead>\n    <tr style=\"text-align: right;\">\n      <th></th>\n      <th>title</th>\n      <th>type</th>\n      <th>def words</th>\n      <th>infobox_name</th>\n      <th>infobox</th>\n      <th>categories</th>\n      <th>wikilinks</th>\n    </tr>\n  </thead>\n  <tbody>\n    <tr>\n      <th>0</th>\n      <td>Anarchism</td>\n      <td>article</td>\n      <td>|distinct|harmful|philosophy|voluntary|hold|un...</td>\n      <td>-</td>\n      <td>-</td>\n      <td>Anarchism by country|Anarchism|Anti-capitalism...</td>\n      <td>Anti-authoritarianism|Political philosophy|Soc...</td>\n    </tr>\n    <tr>\n      <th>1</th>\n      <td>Autism</td>\n      <td>article</td>\n      <td>|life|sign|normal|worsen|communication|milesto...</td>\n      <td>-</td>\n      <td>-</td>\n      <td>Autism|Articles containing video clips|Communi...</td>\n      <td>Psychiatry|Interpersonal relationship|communic...</td>\n    </tr>\n    <tr>\n      <th>2</th>\n      <td>Albedo</td>\n      <td>article</td>\n      <td>|condition|surface|diffusely|relative|percenta...</td>\n      <td>-</td>\n      <td>-</td>\n      <td>Land surface effects on climate|Climate feedba...</td>\n      <td>File:Albedo-e hg.svg|diffuse reflection|sunlig...</td>\n    </tr>\n    <tr>\n      <th>3</th>\n      <td>A</td>\n      <td>article</td>\n      <td>|aes|version|vowel|greek|type|alphabet|form|a|...</td>\n      <td>-</td>\n      <td>-</td>\n      <td>ISO basic Latin letters|Vowel letters</td>\n      <td>A#Related characters|Latin script|Alphabet|Log...</td>\n    </tr>\n    <tr>\n      <th>4</th>\n      <td>Alabama</td>\n      <td>article</td>\n      <td>|southeastern|total|region|largest|west|florid...</td>\n      <td>Infobox U.S. state</td>\n      <td>official_name:State of Alabama|name:Alabama|im...</td>\n      <td>Alabama|1819 establishments in the United Stat...</td>\n      <td>Coat of arms of Alabama|Northern flicker|Dixie...</td>\n    </tr>\n    <tr>\n      <th>...</th>\n      <td>...</td>\n      <td>...</td>\n      <td>...</td>\n      <td>...</td>\n      <td>...</td>\n      <td>...</td>\n      <td>...</td>\n    </tr>\n    <tr>\n      <th>1995</th>\n      <td>Northern bobwhite</td>\n      <td>article</td>\n      <td>|range|whistling|eastern|america|roughly|virgi...</td>\n      <td>Speciesbox</td>\n      <td>name:Northern bobwhite|image:Virginiawachtel 2...</td>\n      <td>Colinus|Birds of the United States|Birds of Me...</td>\n      <td>Carl Linnaeus|bird|Caribbean|New World quail|f...</td>\n    </tr>\n    <tr>\n      <th>1996</th>\n      <td>Bipolar disorder</td>\n      <td>article</td>\n      <td>|life|consequence|issue|think|previously|signi...</td>\n      <td>-</td>\n      <td>-</td>\n      <td>Bipolar disorder|Mood disorders|Psychiatric di...</td>\n      <td>Psychiatry|Depression (mood)|mood (psychology)...</td>\n    </tr>\n    <tr>\n      <th>1997</th>\n      <td>Blitz</td>\n      <td>article</td>\n      <td>|lightning|refer|to|german</td>\n      <td>-</td>\n      <td>-</td>\n      <td>NaN</td>\n      <td>lightning|Blitzkrieg|The Blitz|Blitz (surname)...</td>\n    </tr>\n    <tr>\n      <th>1998</th>\n      <td>Burt Lancaster</td>\n      <td>article</td>\n      <td>|time|Actor|globe|challenging|Burton|actor|kno...</td>\n      <td>Infobox person</td>\n      <td>name:Burt Lancaster|image:Burt Lancaster - pub...</td>\n      <td>1913 births|1994 deaths|20th-century American ...</td>\n      <td>Desert Fury|Manhattan|New York (state)|United ...</td>\n    </tr>\n    <tr>\n      <th>1999</th>\n      <td>Balts</td>\n      <td>article</td>\n      <td>|time|eastern|4th|thumbnail|invasion|hunnish|m...</td>\n      <td>Infobox ethnic group</td>\n      <td>group:Balts|native_name:|native_name_lang:|tot...</td>\n      <td>Baltic peoples|History of the Baltic states|In...</td>\n      <td>Balti people|Balt dynasty|Baltic Germans|Balti...</td>\n    </tr>\n  </tbody>\n</table>\n<p>2000 rows × 7 columns</p>\n</div>",
      "text/plain": "                  title     type  \\\n0             Anarchism  article   \n1                Autism  article   \n2                Albedo  article   \n3                     A  article   \n4               Alabama  article   \n...                 ...      ...   \n1995  Northern bobwhite  article   \n1996   Bipolar disorder  article   \n1997              Blitz  article   \n1998     Burt Lancaster  article   \n1999              Balts  article   \n\n                                              def words          infobox_name  \\\n0     |distinct|harmful|philosophy|voluntary|hold|un...                     -   \n1     |life|sign|normal|worsen|communication|milesto...                     -   \n2     |condition|surface|diffusely|relative|percenta...                     -   \n3     |aes|version|vowel|greek|type|alphabet|form|a|...                     -   \n4     |southeastern|total|region|largest|west|florid...    Infobox U.S. state   \n...                                                 ...                   ...   \n1995  |range|whistling|eastern|america|roughly|virgi...            Speciesbox   \n1996  |life|consequence|issue|think|previously|signi...                     -   \n1997                         |lightning|refer|to|german                     -   \n1998  |time|Actor|globe|challenging|Burton|actor|kno...        Infobox person   \n1999  |time|eastern|4th|thumbnail|invasion|hunnish|m...  Infobox ethnic group   \n\n                                                infobox  \\\n0                                                     -   \n1                                                     -   \n2                                                     -   \n3                                                     -   \n4     official_name:State of Alabama|name:Alabama|im...   \n...                                                 ...   \n1995  name:Northern bobwhite|image:Virginiawachtel 2...   \n1996                                                  -   \n1997                                                  -   \n1998  name:Burt Lancaster|image:Burt Lancaster - pub...   \n1999  group:Balts|native_name:|native_name_lang:|tot...   \n\n                                             categories  \\\n0     Anarchism by country|Anarchism|Anti-capitalism...   \n1     Autism|Articles containing video clips|Communi...   \n2     Land surface effects on climate|Climate feedba...   \n3                 ISO basic Latin letters|Vowel letters   \n4     Alabama|1819 establishments in the United Stat...   \n...                                                 ...   \n1995  Colinus|Birds of the United States|Birds of Me...   \n1996  Bipolar disorder|Mood disorders|Psychiatric di...   \n1997                                                NaN   \n1998  1913 births|1994 deaths|20th-century American ...   \n1999  Baltic peoples|History of the Baltic states|In...   \n\n                                              wikilinks  \n0     Anti-authoritarianism|Political philosophy|Soc...  \n1     Psychiatry|Interpersonal relationship|communic...  \n2     File:Albedo-e hg.svg|diffuse reflection|sunlig...  \n3     A#Related characters|Latin script|Alphabet|Log...  \n4     Coat of arms of Alabama|Northern flicker|Dixie...  \n...                                                 ...  \n1995  Carl Linnaeus|bird|Caribbean|New World quail|f...  \n1996  Psychiatry|Depression (mood)|mood (psychology)...  \n1997  lightning|Blitzkrieg|The Blitz|Blitz (surname)...  \n1998  Desert Fury|Manhattan|New York (state)|United ...  \n1999  Balti people|Balt dynasty|Baltic Germans|Balti...  \n\n[2000 rows x 7 columns]"
     },
     "execution_count": 7,
     "metadata": {},
     "output_type": "execute_result"
    }
   ],
   "source": [
    "df"
   ]
  },
  {
   "cell_type": "code",
   "execution_count": 13,
   "metadata": {},
   "outputs": [
    {
     "data": {
      "text/html": "<div>\n<style scoped>\n    .dataframe tbody tr th:only-of-type {\n        vertical-align: middle;\n    }\n\n    .dataframe tbody tr th {\n        vertical-align: top;\n    }\n\n    .dataframe thead th {\n        text-align: right;\n    }\n</style>\n<table border=\"1\" class=\"dataframe\">\n  <thead>\n    <tr style=\"text-align: right;\">\n      <th></th>\n      <th>title</th>\n      <th>type</th>\n      <th>def words</th>\n      <th>infobox_name</th>\n      <th>infobox</th>\n      <th>categories</th>\n      <th>wikilinks</th>\n    </tr>\n  </thead>\n  <tbody>\n    <tr>\n      <th>6</th>\n      <td>Abraham Lincoln</td>\n      <td>article</td>\n      <td>|Abraham|strengthen|union|constitutional|feder...</td>\n      <td>Infobox officeholder</td>\n      <td>name:Abraham Lincoln|image:Abraham Lincoln O-7...</td>\n      <td>Abraham Lincoln|1809 births|1865 deaths|1865 m...</td>\n      <td>President of the United States|Hannibal Hamlin...</td>\n    </tr>\n  </tbody>\n</table>\n</div>",
      "text/plain": "             title     type  \\\n6  Abraham Lincoln  article   \n\n                                           def words          infobox_name  \\\n6  |Abraham|strengthen|union|constitutional|feder...  Infobox officeholder   \n\n                                             infobox  \\\n6  name:Abraham Lincoln|image:Abraham Lincoln O-7...   \n\n                                          categories  \\\n6  Abraham Lincoln|1809 births|1865 deaths|1865 m...   \n\n                                           wikilinks  \n6  President of the United States|Hannibal Hamlin...  "
     },
     "execution_count": 13,
     "metadata": {},
     "output_type": "execute_result"
    }
   ],
   "source": [
    "df[df.title.str.contains(\"(?i)lincoln\")]"
   ]
  },
  {
   "source": [
    "df[df.title.str.contains(\"(?i)^falmouth\")]"
   ],
   "cell_type": "code",
   "outputs": [
    {
     "output_type": "execute_result",
     "data": {
      "text/plain": "Empty DataFrame\nColumns: [title, type, def words, infobox_name, infobox, categories, wikilinks]\nIndex: []",
      "text/html": "<div>\n<style scoped>\n    .dataframe tbody tr th:only-of-type {\n        vertical-align: middle;\n    }\n\n    .dataframe tbody tr th {\n        vertical-align: top;\n    }\n\n    .dataframe thead th {\n        text-align: right;\n    }\n</style>\n<table border=\"1\" class=\"dataframe\">\n  <thead>\n    <tr style=\"text-align: right;\">\n      <th></th>\n      <th>title</th>\n      <th>type</th>\n      <th>def words</th>\n      <th>infobox_name</th>\n      <th>infobox</th>\n      <th>categories</th>\n      <th>wikilinks</th>\n    </tr>\n  </thead>\n  <tbody>\n  </tbody>\n</table>\n</div>"
     },
     "metadata": {},
     "execution_count": 5
    }
   ],
   "metadata": {},
   "execution_count": 5
  },
  {
   "cell_type": "code",
   "execution_count": 25,
   "metadata": {},
   "outputs": [
    {
     "data": {
      "text/plain": "'|Abraham|strengthen|union|constitutional|federal|lincoln|serve|economy|president|slavery|16th|modernize|war|statesman|lawyer|crisis|War|nation|greatest|civil|States|states|united|american|abolish|lead|preserve|moral|political|u.s.|government|assassination|bloodiest'"
     },
     "execution_count": 25,
     "metadata": {},
     "output_type": "execute_result"
    }
   ],
   "source": [
    "df.loc[6,][\"def words\"]"
   ]
  }
 ]
}